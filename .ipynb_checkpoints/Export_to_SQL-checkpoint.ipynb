{
 "cells": [
  {
   "cell_type": "code",
   "execution_count": null,
   "metadata": {},
   "outputs": [],
   "source": [
    "#!pip install psycopg2"
   ]
  },
  {
   "cell_type": "code",
   "execution_count": 13,
   "metadata": {},
   "outputs": [],
   "source": [
    "import psycopg2\n",
    "import pandas as pd\n",
    "import datetime as dt\n",
    "import os\n",
    "\n",
    "import sqlalchemy as sqa\n",
    "from sqlalchemy.ext.automap import automap_base\n",
    "from sqlalchemy.orm import Session\n",
    "from sqlalchemy import create_engine, func, inspect\n",
    "\n",
    "from psycopg2.extensions import ISOLATION_LEVEL_AUTOCOMMIT\n",
    "import glob \n"
   ]
  },
  {
   "cell_type": "code",
   "execution_count": 2,
   "metadata": {},
   "outputs": [],
   "source": [
    "#in the next few kernels we will connect to PostGRES and create a new DB\n",
    "# Connect to PostgreSQL DBMS\n",
    "database = 'nba2018db'\n",
    "user = 'postgres'\n",
    "password = 'lachimie'\n",
    "\n",
    "con = psycopg2.connect(\"user=postgres password='lachimie'\");\n",
    "con.set_isolation_level(ISOLATION_LEVEL_AUTOCOMMIT);"
   ]
  },
  {
   "cell_type": "code",
   "execution_count": 3,
   "metadata": {},
   "outputs": [],
   "source": [
    "# Obtain a DB Cursor\n",
    "cursor = con.cursor();\n",
    "name_Database = \"nba2018db\";"
   ]
  },
  {
   "cell_type": "code",
   "execution_count": 4,
   "metadata": {},
   "outputs": [],
   "source": [
    "# Create table statement\n",
    "sqlCreateDatabase = \"create database \"+name_Database+\";\""
   ]
  },
  {
   "cell_type": "code",
   "execution_count": 5,
   "metadata": {},
   "outputs": [],
   "source": [
    "# Create a table in PostgreSQL database and then close the connection\n",
    "cursor.execute(sqlCreateDatabase);\n",
    "# con.close()"
   ]
  },
  {
   "cell_type": "code",
   "execution_count": 6,
   "metadata": {},
   "outputs": [],
   "source": [
    "# # connecting to the new database\n",
    "\n",
    "con = psycopg2.connect(database='nba2018db', user=user, password=password)\n",
    "cursor2 = con.cursor()"
   ]
  },
  {
   "cell_type": "code",
   "execution_count": 7,
   "metadata": {},
   "outputs": [],
   "source": [
    "filepath = os.path.join('code','sql','NBA2018.sql')\n"
   ]
  },
  {
   "cell_type": "code",
   "execution_count": 8,
   "metadata": {},
   "outputs": [],
   "source": [
    "#create_table = data"
   ]
  },
  {
   "cell_type": "code",
   "execution_count": 9,
   "metadata": {},
   "outputs": [],
   "source": [
    "sql_file = open(filepath,'r', encoding='utf-8-sig')\n",
    "cursor2.execute(sql_file.read())"
   ]
  },
  {
   "cell_type": "code",
   "execution_count": 21,
   "metadata": {},
   "outputs": [
    {
     "name": "stdout",
     "output_type": "stream",
     "text": [
      "['outputs\\\\combine_cleaned.csv', 'outputs\\\\games_cleaned.csv', 'outputs\\\\players_cleaned.csv', 'outputs\\\\salary_clean.csv', 'outputs\\\\stats.csv', 'outputs\\\\teams_cleaned.csv'] ['combine_cleaned', 'games_cleaned', 'players_cleaned', 'salary_clean', 'stats', 'teams_cleaned']\n"
     ]
    }
   ],
   "source": [
    "directory_path = 'outputs/*.csv'\n",
    "file_list = []\n",
    "\n",
    "for fname in glob.glob(directory_path):\n",
    "    file_list.append(fname)\n",
    "\n",
    "file_list\n",
    "table_list = []\n",
    "\n",
    "for i in range(len(file_list)):\n",
    "    table_list.append(file_list[i].replace('outputs\\\\', '').replace('.csv',''))\n",
    "    \n",
    "print(file_list, table_list)  "
   ]
  },
  {
   "cell_type": "code",
   "execution_count": 12,
   "metadata": {},
   "outputs": [],
   "source": [
    "#insert first CSV file, \n",
    "list = \n",
    "\n",
    "\n",
    "filepath = os.path.join('outputs','teams_cleaned.csv')\n",
    "with open(filepath, 'r') as f:\n",
    "    next(f) # Skip the header row.\n",
    "    cursor2.copy_from(f, 'teams', sep=',')\n",
    "\n",
    "con.commit()"
   ]
  },
  {
   "cell_type": "code",
   "execution_count": null,
   "metadata": {},
   "outputs": [],
   "source": [
    "# con.close()"
   ]
  },
  {
   "cell_type": "code",
   "execution_count": null,
   "metadata": {},
   "outputs": [],
   "source": []
  }
 ],
 "metadata": {
  "kernelspec": {
   "display_name": "Python 3",
   "language": "python",
   "name": "python3"
  },
  "language_info": {
   "codemirror_mode": {
    "name": "ipython",
    "version": 3
   },
   "file_extension": ".py",
   "mimetype": "text/x-python",
   "name": "python",
   "nbconvert_exporter": "python",
   "pygments_lexer": "ipython3",
   "version": "3.8.3"
  }
 },
 "nbformat": 4,
 "nbformat_minor": 4
}
