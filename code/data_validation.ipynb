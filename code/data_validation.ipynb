{
 "metadata": {
  "language_info": {
   "codemirror_mode": {
    "name": "ipython",
    "version": 3
   },
   "file_extension": ".py",
   "mimetype": "text/x-python",
   "name": "python",
   "nbconvert_exporter": "python",
   "pygments_lexer": "ipython3",
   "version": "3.8.3-final"
  },
  "orig_nbformat": 2,
  "kernelspec": {
   "name": "python3",
   "display_name": "Python 3",
   "language": "python"
  }
 },
 "nbformat": 4,
 "nbformat_minor": 2,
 "cells": [
  {
   "cell_type": "code",
   "execution_count": 159,
   "metadata": {},
   "outputs": [],
   "source": [
    "import pandas as pd\n",
    "import glob\n",
    "import os"
   ]
  },
  {
   "cell_type": "code",
   "execution_count": 160,
   "metadata": {},
   "outputs": [],
   "source": [
    "# Set generic path to CSVs for data validation\n",
    "path = os.path.join('..','Resources','*.csv')"
   ]
  },
  {
   "cell_type": "code",
   "execution_count": 161,
   "metadata": {},
   "outputs": [
    {
     "output_type": "execute_result",
     "data": {
      "text/plain": [
       "['../Resources/player_stats.csv',\n",
       " '../Resources/teams.csv',\n",
       " '../Resources/player_salary.csv',\n",
       " '../Resources/players.csv',\n",
       " '../Resources/games.csv',\n",
       " '../Resources/nba_draft_combine_all_years.csv']"
      ]
     },
     "metadata": {},
     "execution_count": 161
    }
   ],
   "source": [
    "# Create list of all CSVs in path\n",
    "files_list = []\n",
    "\n",
    "for fname in glob.glob(path):\n",
    "    files_list.append(fname)\n",
    "\n",
    "files_list    "
   ]
  },
  {
   "cell_type": "code",
   "execution_count": 162,
   "metadata": {},
   "outputs": [],
   "source": [
    "# Select CSV to validate here: value 0 - len(files_list)\n",
    "csv_no = 5"
   ]
  },
  {
   "cell_type": "code",
   "execution_count": 163,
   "metadata": {},
   "outputs": [],
   "source": [
    "# Set DF for validation\n",
    "messy_data = pd.read_csv(files_list[csv_no])"
   ]
  },
  {
   "cell_type": "code",
   "execution_count": 164,
   "metadata": {},
   "outputs": [],
   "source": [
    "# Normalize headers to lowercase\n",
    "messy_data.columns = messy_data.columns.str.strip()\\\n",
    "    .str.lower()\\\n",
    "    .str.replace(' ', '_')\\\n",
    "    .str.replace('(', '')\\\n",
    "    .str.replace(')', '')"
   ]
  },
  {
   "cell_type": "code",
   "execution_count": 165,
   "metadata": {},
   "outputs": [
    {
     "output_type": "execute_result",
     "data": {
      "text/plain": [
       "Empty DataFrame\n",
       "Columns: [unnamed:_0, player, year, draft_pick, height_no_shoes, height_with_shoes, wingspan, standing_reach, vertical_max, vertical_max_reach, vertical_no_step, vertical_no_step_reach, weight, body_fat, hand_length, hand_width, bench, agility, sprint]\n",
       "Index: []"
      ],
      "text/html": "<div>\n<style scoped>\n    .dataframe tbody tr th:only-of-type {\n        vertical-align: middle;\n    }\n\n    .dataframe tbody tr th {\n        vertical-align: top;\n    }\n\n    .dataframe thead th {\n        text-align: right;\n    }\n</style>\n<table border=\"1\" class=\"dataframe\">\n  <thead>\n    <tr style=\"text-align: right;\">\n      <th></th>\n      <th>unnamed:_0</th>\n      <th>player</th>\n      <th>year</th>\n      <th>draft_pick</th>\n      <th>height_no_shoes</th>\n      <th>height_with_shoes</th>\n      <th>wingspan</th>\n      <th>standing_reach</th>\n      <th>vertical_max</th>\n      <th>vertical_max_reach</th>\n      <th>vertical_no_step</th>\n      <th>vertical_no_step_reach</th>\n      <th>weight</th>\n      <th>body_fat</th>\n      <th>hand_length</th>\n      <th>hand_width</th>\n      <th>bench</th>\n      <th>agility</th>\n      <th>sprint</th>\n    </tr>\n  </thead>\n  <tbody>\n  </tbody>\n</table>\n</div>"
     },
     "metadata": {},
     "execution_count": 165
    }
   ],
   "source": [
    "# flag all duplicate rows\n",
    "duplicates_df = messy_data[messy_data.duplicated(keep = False)]\n",
    "duplicates_df "
   ]
  },
  {
   "cell_type": "code",
   "execution_count": 166,
   "metadata": {},
   "outputs": [
    {
     "output_type": "execute_result",
     "data": {
      "text/plain": [
       "   unnamed:_0             player  year  draft_pick  height_no_shoes  \\\n",
       "0           0      Blake Griffin  2009         1.0            80.50   \n",
       "1           1  Terrence Williams  2009        11.0            77.00   \n",
       "2           2   Gerald Henderson  2009        12.0            76.00   \n",
       "3           3   Tyler Hansbrough  2009        13.0            80.25   \n",
       "4           4         Earl Clark  2009        14.0            80.50   \n",
       "\n",
       "   height_with_shoes  wingspan  standing_reach  vertical_max  \\\n",
       "0              82.00     83.25           105.0          35.5   \n",
       "1              78.25     81.00           103.5          37.0   \n",
       "2              77.00     82.25           102.5          35.0   \n",
       "3              81.50     83.50           106.0          34.0   \n",
       "4              82.25     86.50           109.5          33.0   \n",
       "\n",
       "   vertical_max_reach  vertical_no_step  vertical_no_step_reach  weight  \\\n",
       "0               140.5              32.0                   137.0   248.0   \n",
       "1               140.5              30.5                   134.0   213.0   \n",
       "2               137.5              31.5                   134.0   215.0   \n",
       "3               140.0              27.5                   133.5   234.0   \n",
       "4               142.5              28.5                   138.0   228.0   \n",
       "\n",
       "   body_fat  hand_length  hand_width  bench  agility  sprint  \n",
       "0       8.2          NaN         NaN   22.0    10.95    3.28  \n",
       "1       5.1          NaN         NaN    9.0    11.15    3.18  \n",
       "2       4.4          NaN         NaN    8.0    11.17    3.14  \n",
       "3       8.5          NaN         NaN   18.0    11.12    3.27  \n",
       "4       5.2          NaN         NaN    5.0    11.17    3.35  "
      ],
      "text/html": "<div>\n<style scoped>\n    .dataframe tbody tr th:only-of-type {\n        vertical-align: middle;\n    }\n\n    .dataframe tbody tr th {\n        vertical-align: top;\n    }\n\n    .dataframe thead th {\n        text-align: right;\n    }\n</style>\n<table border=\"1\" class=\"dataframe\">\n  <thead>\n    <tr style=\"text-align: right;\">\n      <th></th>\n      <th>unnamed:_0</th>\n      <th>player</th>\n      <th>year</th>\n      <th>draft_pick</th>\n      <th>height_no_shoes</th>\n      <th>height_with_shoes</th>\n      <th>wingspan</th>\n      <th>standing_reach</th>\n      <th>vertical_max</th>\n      <th>vertical_max_reach</th>\n      <th>vertical_no_step</th>\n      <th>vertical_no_step_reach</th>\n      <th>weight</th>\n      <th>body_fat</th>\n      <th>hand_length</th>\n      <th>hand_width</th>\n      <th>bench</th>\n      <th>agility</th>\n      <th>sprint</th>\n    </tr>\n  </thead>\n  <tbody>\n    <tr>\n      <th>0</th>\n      <td>0</td>\n      <td>Blake Griffin</td>\n      <td>2009</td>\n      <td>1.0</td>\n      <td>80.50</td>\n      <td>82.00</td>\n      <td>83.25</td>\n      <td>105.0</td>\n      <td>35.5</td>\n      <td>140.5</td>\n      <td>32.0</td>\n      <td>137.0</td>\n      <td>248.0</td>\n      <td>8.2</td>\n      <td>NaN</td>\n      <td>NaN</td>\n      <td>22.0</td>\n      <td>10.95</td>\n      <td>3.28</td>\n    </tr>\n    <tr>\n      <th>1</th>\n      <td>1</td>\n      <td>Terrence Williams</td>\n      <td>2009</td>\n      <td>11.0</td>\n      <td>77.00</td>\n      <td>78.25</td>\n      <td>81.00</td>\n      <td>103.5</td>\n      <td>37.0</td>\n      <td>140.5</td>\n      <td>30.5</td>\n      <td>134.0</td>\n      <td>213.0</td>\n      <td>5.1</td>\n      <td>NaN</td>\n      <td>NaN</td>\n      <td>9.0</td>\n      <td>11.15</td>\n      <td>3.18</td>\n    </tr>\n    <tr>\n      <th>2</th>\n      <td>2</td>\n      <td>Gerald Henderson</td>\n      <td>2009</td>\n      <td>12.0</td>\n      <td>76.00</td>\n      <td>77.00</td>\n      <td>82.25</td>\n      <td>102.5</td>\n      <td>35.0</td>\n      <td>137.5</td>\n      <td>31.5</td>\n      <td>134.0</td>\n      <td>215.0</td>\n      <td>4.4</td>\n      <td>NaN</td>\n      <td>NaN</td>\n      <td>8.0</td>\n      <td>11.17</td>\n      <td>3.14</td>\n    </tr>\n    <tr>\n      <th>3</th>\n      <td>3</td>\n      <td>Tyler Hansbrough</td>\n      <td>2009</td>\n      <td>13.0</td>\n      <td>80.25</td>\n      <td>81.50</td>\n      <td>83.50</td>\n      <td>106.0</td>\n      <td>34.0</td>\n      <td>140.0</td>\n      <td>27.5</td>\n      <td>133.5</td>\n      <td>234.0</td>\n      <td>8.5</td>\n      <td>NaN</td>\n      <td>NaN</td>\n      <td>18.0</td>\n      <td>11.12</td>\n      <td>3.27</td>\n    </tr>\n    <tr>\n      <th>4</th>\n      <td>4</td>\n      <td>Earl Clark</td>\n      <td>2009</td>\n      <td>14.0</td>\n      <td>80.50</td>\n      <td>82.25</td>\n      <td>86.50</td>\n      <td>109.5</td>\n      <td>33.0</td>\n      <td>142.5</td>\n      <td>28.5</td>\n      <td>138.0</td>\n      <td>228.0</td>\n      <td>5.2</td>\n      <td>NaN</td>\n      <td>NaN</td>\n      <td>5.0</td>\n      <td>11.17</td>\n      <td>3.35</td>\n    </tr>\n  </tbody>\n</table>\n</div>"
     },
     "metadata": {},
     "execution_count": 166
    }
   ],
   "source": [
    "# Show headder to compare to dtypes below\n",
    "messy_data.head()"
   ]
  },
  {
   "cell_type": "code",
   "execution_count": 167,
   "metadata": {},
   "outputs": [
    {
     "output_type": "execute_result",
     "data": {
      "text/plain": [
       "unnamed:_0                  int64\n",
       "player                     object\n",
       "year                        int64\n",
       "draft_pick                float64\n",
       "height_no_shoes           float64\n",
       "height_with_shoes         float64\n",
       "wingspan                  float64\n",
       "standing_reach            float64\n",
       "vertical_max              float64\n",
       "vertical_max_reach        float64\n",
       "vertical_no_step          float64\n",
       "vertical_no_step_reach    float64\n",
       "weight                    float64\n",
       "body_fat                  float64\n",
       "hand_length               float64\n",
       "hand_width                float64\n",
       "bench                     float64\n",
       "agility                   float64\n",
       "sprint                    float64\n",
       "dtype: object"
      ]
     },
     "metadata": {},
     "execution_count": 167
    }
   ],
   "source": [
    "# Check if datatypes are normalized\n",
    "messy_data.dtypes"
   ]
  },
  {
   "cell_type": "code",
   "execution_count": 168,
   "metadata": {},
   "outputs": [
    {
     "output_type": "execute_result",
     "data": {
      "text/plain": [
       "unnamed:_0                  int64\n",
       "player                     object\n",
       "year                        int64\n",
       "draft_pick                float64\n",
       "height_no_shoes           float64\n",
       "height_with_shoes         float64\n",
       "wingspan                  float64\n",
       "standing_reach            float64\n",
       "vertical_max              float64\n",
       "vertical_max_reach        float64\n",
       "vertical_no_step          float64\n",
       "vertical_no_step_reach    float64\n",
       "weight                    float64\n",
       "body_fat                  float64\n",
       "hand_length               float64\n",
       "hand_width                float64\n",
       "bench                     float64\n",
       "agility                   float64\n",
       "sprint                    float64\n",
       "dtype: object"
      ]
     },
     "metadata": {},
     "execution_count": 168
    }
   ],
   "source": [
    "# for '../Resources/games.csv' (index item 4), we cast the 'date' variable as a datetime\n",
    "if csv_no == 4:\n",
    "    messy_data.game_date_est = pd.to_datetime(messy_data.game_date_est)\n",
    "\n",
    "messy_data.dtypes"
   ]
  },
  {
   "cell_type": "code",
   "execution_count": 169,
   "metadata": {},
   "outputs": [],
   "source": [
    "# Export csv once clean\n",
    "clean_data_df = messy_data\n",
    "\n",
    "clean_data_df.to_csv(f\"{files_list[csv_no].replace('Resources', 'Validated_Data').replace('.csv', '_val.csv')}\", index = False)"
   ]
  },
  {
   "cell_type": "code",
   "execution_count": null,
   "metadata": {},
   "outputs": [],
   "source": []
  }
 ]
}