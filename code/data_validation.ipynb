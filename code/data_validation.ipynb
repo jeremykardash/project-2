{
 "metadata": {
  "language_info": {
   "codemirror_mode": {
    "name": "ipython",
    "version": 3
   },
   "file_extension": ".py",
   "mimetype": "text/x-python",
   "name": "python",
   "nbconvert_exporter": "python",
   "pygments_lexer": "ipython3",
   "version": "3.8.3-final"
  },
  "orig_nbformat": 2,
  "kernelspec": {
   "name": "python3",
   "display_name": "Python 3",
   "language": "python"
  }
 },
 "nbformat": 4,
 "nbformat_minor": 2,
 "cells": [
  {
   "cell_type": "code",
   "execution_count": 1,
   "metadata": {},
   "outputs": [],
   "source": [
    "import pandas as pd\n",
    "import glob\n",
    "import os"
   ]
  },
  {
   "cell_type": "code",
   "execution_count": 2,
   "metadata": {},
   "outputs": [],
   "source": [
    "# Set generic path to CSVs for data validation\n",
    "path = os.path.join('..','Resources','*.csv')"
   ]
  },
  {
   "cell_type": "code",
   "execution_count": 3,
   "metadata": {},
   "outputs": [
    {
     "output_type": "execute_result",
     "data": {
      "text/plain": [
       "['../Resources/player_stats.csv',\n",
       " '../Resources/teams.csv',\n",
       " '../Resources/salary.csv',\n",
       " '../Resources/players.csv',\n",
       " '../Resources/nba_draft_combine_all_years.csv']"
      ]
     },
     "metadata": {},
     "execution_count": 3
    }
   ],
   "source": [
    "# Create list of all CSVs in path\n",
    "files_list = []\n",
    "\n",
    "for fname in glob.glob(path):\n",
    "    files_list.append(fname)\n",
    "\n",
    "files_list    "
   ]
  },
  {
   "cell_type": "code",
   "execution_count": 4,
   "metadata": {},
   "outputs": [],
   "source": [
    "# Select CSV to validate here: value 0 - len(files_list)\n",
    "csv_no = 2"
   ]
  },
  {
   "cell_type": "code",
   "execution_count": 5,
   "metadata": {},
   "outputs": [],
   "source": [
    "# Set DF for validation\n",
    "messy_data = pd.read_csv(files_list[csv_no])"
   ]
  },
  {
   "cell_type": "code",
   "execution_count": 6,
   "metadata": {},
   "outputs": [],
   "source": [
    "# Normalize headers to lowercase\n",
    "messy_data.columns = messy_data.columns.str.strip()\\\n",
    "    .str.lower()\\\n",
    "    .str.replace(' ', '_')\\\n",
    "    .str.replace('(', '')\\\n",
    "    .str.replace(')', '')"
   ]
  },
  {
   "cell_type": "code",
   "execution_count": 7,
   "metadata": {},
   "outputs": [
    {
     "output_type": "execute_result",
     "data": {
      "text/plain": [
       "Empty DataFrame\n",
       "Columns: [player_name, salary]\n",
       "Index: []"
      ],
      "text/html": "<div>\n<style scoped>\n    .dataframe tbody tr th:only-of-type {\n        vertical-align: middle;\n    }\n\n    .dataframe tbody tr th {\n        vertical-align: top;\n    }\n\n    .dataframe thead th {\n        text-align: right;\n    }\n</style>\n<table border=\"1\" class=\"dataframe\">\n  <thead>\n    <tr style=\"text-align: right;\">\n      <th></th>\n      <th>player_name</th>\n      <th>salary</th>\n    </tr>\n  </thead>\n  <tbody>\n  </tbody>\n</table>\n</div>"
     },
     "metadata": {},
     "execution_count": 7
    }
   ],
   "source": [
    "# flag all duplicate rows\n",
    "duplicates_df = messy_data[messy_data.duplicated(keep = False)]\n",
    "duplicates_df "
   ]
  },
  {
   "cell_type": "code",
   "execution_count": 8,
   "metadata": {},
   "outputs": [
    {
     "output_type": "execute_result",
     "data": {
      "text/plain": [
       "         player_name         salary\n",
       "0      Stephen Curry  $37,457,154  \n",
       "1       LeBron James  $35,654,150  \n",
       "2         Chris Paul  $35,654,150  \n",
       "3  Russell Westbrook  $35,654,150  \n",
       "4         Kyle Lowry  $32,700,000  "
      ],
      "text/html": "<div>\n<style scoped>\n    .dataframe tbody tr th:only-of-type {\n        vertical-align: middle;\n    }\n\n    .dataframe tbody tr th {\n        vertical-align: top;\n    }\n\n    .dataframe thead th {\n        text-align: right;\n    }\n</style>\n<table border=\"1\" class=\"dataframe\">\n  <thead>\n    <tr style=\"text-align: right;\">\n      <th></th>\n      <th>player_name</th>\n      <th>salary</th>\n    </tr>\n  </thead>\n  <tbody>\n    <tr>\n      <th>0</th>\n      <td>Stephen Curry</td>\n      <td>$37,457,154</td>\n    </tr>\n    <tr>\n      <th>1</th>\n      <td>LeBron James</td>\n      <td>$35,654,150</td>\n    </tr>\n    <tr>\n      <th>2</th>\n      <td>Chris Paul</td>\n      <td>$35,654,150</td>\n    </tr>\n    <tr>\n      <th>3</th>\n      <td>Russell Westbrook</td>\n      <td>$35,654,150</td>\n    </tr>\n    <tr>\n      <th>4</th>\n      <td>Kyle Lowry</td>\n      <td>$32,700,000</td>\n    </tr>\n  </tbody>\n</table>\n</div>"
     },
     "metadata": {},
     "execution_count": 8
    }
   ],
   "source": [
    "# Show headder to compare to dtypes below\n",
    "messy_data.head()"
   ]
  },
  {
   "cell_type": "code",
   "execution_count": 9,
   "metadata": {},
   "outputs": [
    {
     "output_type": "execute_result",
     "data": {
      "text/plain": [
       "player_name    object\n",
       "salary         object\n",
       "dtype: object"
      ]
     },
     "metadata": {},
     "execution_count": 9
    }
   ],
   "source": [
    "# Check if datatypes are normalized\n",
    "messy_data.dtypes"
   ]
  },
  {
   "cell_type": "code",
   "execution_count": 10,
   "metadata": {},
   "outputs": [
    {
     "output_type": "execute_result",
     "data": {
      "text/plain": [
       "player_name    object\n",
       "salary         object\n",
       "dtype: object"
      ]
     },
     "metadata": {},
     "execution_count": 10
    }
   ],
   "source": [
    "# for '../Resources/games.csv' (index item 4), we cast the 'date' variable as a datetime\n",
    "if csv_no == 4:\n",
    "    messy_data.game_date_est = pd.to_datetime(messy_data.game_date_est)\n",
    "\n",
    "messy_data.dtypes"
   ]
  },
  {
   "cell_type": "code",
   "execution_count": 11,
   "metadata": {},
   "outputs": [],
   "source": [
    "# Export csv once clean\n",
    "clean_data_df = messy_data\n",
    "\n",
    "clean_data_df.to_csv(f\"{files_list[csv_no].replace('Resources', 'Validated_Data').replace('.csv', '_val.csv')}\", index = False)"
   ]
  },
  {
   "cell_type": "code",
   "execution_count": null,
   "metadata": {},
   "outputs": [],
   "source": []
  }
 ]
}