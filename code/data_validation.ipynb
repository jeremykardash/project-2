{
 "cells": [
  {
   "cell_type": "code",
   "execution_count": 21,
   "metadata": {},
   "outputs": [],
   "source": [
    "import pandas as pd\n",
    "import glob\n",
    "import os"
   ]
  },
  {
   "cell_type": "code",
   "execution_count": 22,
   "metadata": {},
   "outputs": [],
   "source": [
    "# Set generic path to CSVs for data validation\n",
    "path = os.path.join('..','Resources','*.csv')"
   ]
  },
  {
   "cell_type": "code",
   "execution_count": 23,
   "metadata": {},
   "outputs": [
    {
     "output_type": "execute_result",
     "data": {
      "text/plain": [
       "['../Resources/player_stats.csv',\n",
       " '../Resources/teams.csv',\n",
       " '../Resources/salary.csv',\n",
       " '../Resources/players.csv',\n",
       " '../Resources/games.csv',\n",
       " '../Resources/nba_draft_combine_all_years.csv']"
      ]
     },
     "metadata": {},
     "execution_count": 23
    }
   ],
   "source": [
    "# Create list of all CSVs in path\n",
    "files_list = []\n",
    "\n",
    "for fname in glob.glob(path):\n",
    "    files_list.append(fname)\n",
    "\n",
    "files_list    "
   ]
  },
  {
   "cell_type": "code",
   "execution_count": 24,
   "metadata": {},
   "outputs": [],
   "source": [
    "# Select CSV to validate here: value 0 - len(files_list)\n",
    "csv_no = 3"
   ]
  },
  {
   "cell_type": "code",
   "execution_count": 25,
   "metadata": {},
   "outputs": [],
   "source": [
    "# Set DF for validation\n",
    "messy_data = pd.read_csv(files_list[csv_no])"
   ]
  },
  {
   "cell_type": "code",
   "execution_count": 26,
   "metadata": {},
   "outputs": [],
   "source": [
    "# Normalize headers to lowercase\n",
    "messy_data.columns = messy_data.columns.str.strip()\\\n",
    "    .str.lower()\\\n",
    "    .str.replace(' ', '_')\\\n",
    "    .str.replace('(', '')\\\n",
    "    .str.replace(')', '')"
   ]
  },
  {
   "cell_type": "code",
   "execution_count": 27,
   "metadata": {},
   "outputs": [
    {
     "output_type": "execute_result",
     "data": {
      "text/plain": [
       "Empty DataFrame\n",
       "Columns: [player_name, team_id, player_id, season]\n",
       "Index: []"
      ],
      "text/html": "<div>\n<style scoped>\n    .dataframe tbody tr th:only-of-type {\n        vertical-align: middle;\n    }\n\n    .dataframe tbody tr th {\n        vertical-align: top;\n    }\n\n    .dataframe thead th {\n        text-align: right;\n    }\n</style>\n<table border=\"1\" class=\"dataframe\">\n  <thead>\n    <tr style=\"text-align: right;\">\n      <th></th>\n      <th>player_name</th>\n      <th>team_id</th>\n      <th>player_id</th>\n      <th>season</th>\n    </tr>\n  </thead>\n  <tbody>\n  </tbody>\n</table>\n</div>"
     },
     "metadata": {},
     "execution_count": 27
    }
   ],
   "source": [
    "# flag all duplicate rows\n",
    "duplicates_df = messy_data[messy_data.duplicated(keep = False)]\n",
    "duplicates_df "
   ]
  },
  {
   "cell_type": "code",
   "execution_count": 28,
   "metadata": {},
   "outputs": [
    {
     "output_type": "execute_result",
     "data": {
      "text/plain": [
       "        player_name     team_id  player_id  season\n",
       "0     Royce O'Neale  1610612762    1626220    2019\n",
       "1  Bojan Bogdanovic  1610612762     202711    2019\n",
       "2       Rudy Gobert  1610612762     203497    2019\n",
       "3  Donovan Mitchell  1610612762    1628378    2019\n",
       "4       Mike Conley  1610612762     201144    2019"
      ],
      "text/html": "<div>\n<style scoped>\n    .dataframe tbody tr th:only-of-type {\n        vertical-align: middle;\n    }\n\n    .dataframe tbody tr th {\n        vertical-align: top;\n    }\n\n    .dataframe thead th {\n        text-align: right;\n    }\n</style>\n<table border=\"1\" class=\"dataframe\">\n  <thead>\n    <tr style=\"text-align: right;\">\n      <th></th>\n      <th>player_name</th>\n      <th>team_id</th>\n      <th>player_id</th>\n      <th>season</th>\n    </tr>\n  </thead>\n  <tbody>\n    <tr>\n      <th>0</th>\n      <td>Royce O'Neale</td>\n      <td>1610612762</td>\n      <td>1626220</td>\n      <td>2019</td>\n    </tr>\n    <tr>\n      <th>1</th>\n      <td>Bojan Bogdanovic</td>\n      <td>1610612762</td>\n      <td>202711</td>\n      <td>2019</td>\n    </tr>\n    <tr>\n      <th>2</th>\n      <td>Rudy Gobert</td>\n      <td>1610612762</td>\n      <td>203497</td>\n      <td>2019</td>\n    </tr>\n    <tr>\n      <th>3</th>\n      <td>Donovan Mitchell</td>\n      <td>1610612762</td>\n      <td>1628378</td>\n      <td>2019</td>\n    </tr>\n    <tr>\n      <th>4</th>\n      <td>Mike Conley</td>\n      <td>1610612762</td>\n      <td>201144</td>\n      <td>2019</td>\n    </tr>\n  </tbody>\n</table>\n</div>"
     },
     "metadata": {},
     "execution_count": 28
    }
   ],
   "source": [
    "# Show headder to compare to dtypes below\n",
    "messy_data.head()"
   ]
  },
  {
   "cell_type": "code",
   "execution_count": 29,
   "metadata": {},
   "outputs": [
    {
     "output_type": "execute_result",
     "data": {
      "text/plain": [
       "player_name    object\n",
       "team_id         int64\n",
       "player_id       int64\n",
       "season          int64\n",
       "dtype: object"
      ]
     },
     "metadata": {},
     "execution_count": 29
    }
   ],
   "source": [
    "# Check if datatypes are normalized\n",
    "messy_data.dtypes"
   ]
  },
  {
   "cell_type": "code",
   "execution_count": 30,
   "metadata": {},
   "outputs": [
    {
     "output_type": "execute_result",
     "data": {
      "text/plain": [
       "player_name    object\n",
       "team_id         int64\n",
       "player_id       int64\n",
       "season          int64\n",
       "dtype: object"
      ]
     },
     "metadata": {},
     "execution_count": 30
    }
   ],
   "source": [
    "# for '../Resources/games.csv' (index item 4), we cast the 'date' variable as a datetime\n",
    "if csv_no == 4:\n",
    "    messy_data.game_date_est = pd.to_datetime(messy_data.game_date_est)\n",
    "\n",
    "messy_data.dtypes"
   ]
  },
  {
   "cell_type": "code",
   "execution_count": 31,
   "metadata": {},
   "outputs": [],
   "source": [
    "# Export csv once clean\n",
    "for i in files_list:\n",
    "    clean_data_df = pd.read_csv(i)\n",
    "    clean_data_df.columns = clean_data_df.columns.str.strip()\\\n",
    "    .str.lower()\\\n",
    "    .str.replace(' ', '_')\\\n",
    "    .str.replace('(', '')\\\n",
    "    .str.replace(')', '')\n",
    "    clean_data_df.to_csv(f\"{files_list[files_list.index(i)].replace('Resources', 'Validated_Data').replace('.csv', '_val.csv')}\", index = False)"
   ]
  },
  {
   "cell_type": "code",
   "execution_count": null,
   "metadata": {},
   "outputs": [],
   "source": []
  }
 ],
 "metadata": {
  "kernelspec": {
   "display_name": "Python 3",
   "language": "python",
   "name": "python3"
  },
  "language_info": {
   "codemirror_mode": {
    "name": "ipython",
    "version": 3
   },
   "file_extension": ".py",
   "mimetype": "text/x-python",
   "name": "python",
   "nbconvert_exporter": "python",
   "pygments_lexer": "ipython3",
   "version": "3.8.3-final"
  }
 },
 "nbformat": 4,
 "nbformat_minor": 2
}