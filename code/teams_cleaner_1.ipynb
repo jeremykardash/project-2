{
 "cells": [
  {
   "cell_type": "code",
   "execution_count": 2,
   "metadata": {},
   "outputs": [],
   "source": [
    "#Import dependencies\n",
    "import pandas as pd\n",
    "import os"
   ]
  },
  {
   "cell_type": "code",
   "execution_count": 4,
   "metadata": {},
   "outputs": [
    {
     "output_type": "execute_result",
     "data": {
      "text/plain": [
       "   league_id     team_id  min_year  max_year abbreviation   nickname  \\\n",
       "0          0  1610612737      1949      2019          ATL      Hawks   \n",
       "1          0  1610612738      1946      2019          BOS    Celtics   \n",
       "2          0  1610612740      2002      2019          NOP   Pelicans   \n",
       "3          0  1610612741      1966      2019          CHI      Bulls   \n",
       "4          0  1610612742      1980      2019          DAL  Mavericks   \n",
       "\n",
       "   yearfounded         city                     arena  arenacapacity  \\\n",
       "0         1949      Atlanta          State Farm Arena        18729.0   \n",
       "1         1946       Boston                 TD Garden        18624.0   \n",
       "2         2002  New Orleans      Smoothie King Center            NaN   \n",
       "3         1966      Chicago             United Center        21711.0   \n",
       "4         1980       Dallas  American Airlines Center        19200.0   \n",
       "\n",
       "             owner  generalmanager      headcoach dleagueaffiliation  \n",
       "0     Tony Ressler  Travis Schlenk   Lloyd Pierce      Erie Bayhawks  \n",
       "1    Wyc Grousbeck     Danny Ainge   Brad Stevens    Maine Red Claws  \n",
       "2       Tom Benson  Trajan Langdon   Alvin Gentry       No Affiliate  \n",
       "3  Jerry Reinsdorf      Gar Forman     Jim Boylen   Windy City Bulls  \n",
       "4       Mark Cuban   Donnie Nelson  Rick Carlisle      Texas Legends  "
      ],
      "text/html": "<div>\n<style scoped>\n    .dataframe tbody tr th:only-of-type {\n        vertical-align: middle;\n    }\n\n    .dataframe tbody tr th {\n        vertical-align: top;\n    }\n\n    .dataframe thead th {\n        text-align: right;\n    }\n</style>\n<table border=\"1\" class=\"dataframe\">\n  <thead>\n    <tr style=\"text-align: right;\">\n      <th></th>\n      <th>league_id</th>\n      <th>team_id</th>\n      <th>min_year</th>\n      <th>max_year</th>\n      <th>abbreviation</th>\n      <th>nickname</th>\n      <th>yearfounded</th>\n      <th>city</th>\n      <th>arena</th>\n      <th>arenacapacity</th>\n      <th>owner</th>\n      <th>generalmanager</th>\n      <th>headcoach</th>\n      <th>dleagueaffiliation</th>\n    </tr>\n  </thead>\n  <tbody>\n    <tr>\n      <th>0</th>\n      <td>0</td>\n      <td>1610612737</td>\n      <td>1949</td>\n      <td>2019</td>\n      <td>ATL</td>\n      <td>Hawks</td>\n      <td>1949</td>\n      <td>Atlanta</td>\n      <td>State Farm Arena</td>\n      <td>18729.0</td>\n      <td>Tony Ressler</td>\n      <td>Travis Schlenk</td>\n      <td>Lloyd Pierce</td>\n      <td>Erie Bayhawks</td>\n    </tr>\n    <tr>\n      <th>1</th>\n      <td>0</td>\n      <td>1610612738</td>\n      <td>1946</td>\n      <td>2019</td>\n      <td>BOS</td>\n      <td>Celtics</td>\n      <td>1946</td>\n      <td>Boston</td>\n      <td>TD Garden</td>\n      <td>18624.0</td>\n      <td>Wyc Grousbeck</td>\n      <td>Danny Ainge</td>\n      <td>Brad Stevens</td>\n      <td>Maine Red Claws</td>\n    </tr>\n    <tr>\n      <th>2</th>\n      <td>0</td>\n      <td>1610612740</td>\n      <td>2002</td>\n      <td>2019</td>\n      <td>NOP</td>\n      <td>Pelicans</td>\n      <td>2002</td>\n      <td>New Orleans</td>\n      <td>Smoothie King Center</td>\n      <td>NaN</td>\n      <td>Tom Benson</td>\n      <td>Trajan Langdon</td>\n      <td>Alvin Gentry</td>\n      <td>No Affiliate</td>\n    </tr>\n    <tr>\n      <th>3</th>\n      <td>0</td>\n      <td>1610612741</td>\n      <td>1966</td>\n      <td>2019</td>\n      <td>CHI</td>\n      <td>Bulls</td>\n      <td>1966</td>\n      <td>Chicago</td>\n      <td>United Center</td>\n      <td>21711.0</td>\n      <td>Jerry Reinsdorf</td>\n      <td>Gar Forman</td>\n      <td>Jim Boylen</td>\n      <td>Windy City Bulls</td>\n    </tr>\n    <tr>\n      <th>4</th>\n      <td>0</td>\n      <td>1610612742</td>\n      <td>1980</td>\n      <td>2019</td>\n      <td>DAL</td>\n      <td>Mavericks</td>\n      <td>1980</td>\n      <td>Dallas</td>\n      <td>American Airlines Center</td>\n      <td>19200.0</td>\n      <td>Mark Cuban</td>\n      <td>Donnie Nelson</td>\n      <td>Rick Carlisle</td>\n      <td>Texas Legends</td>\n    </tr>\n  </tbody>\n</table>\n</div>"
     },
     "metadata": {},
     "execution_count": 4
    }
   ],
   "source": [
    "#Open file as df\n",
    "filepath = os.path.join('..', 'Validated_Data', 'teams_val.csv')\n",
    "\n",
    "messy_teams_df = pd.read_csv(filepath)\n",
    "\n",
    "messy_teams_df.head()"
   ]
  },
  {
   "cell_type": "code",
   "execution_count": 5,
   "metadata": {},
   "outputs": [
    {
     "output_type": "execute_result",
     "data": {
      "text/plain": [
       "['league_id',\n",
       " 'team_id',\n",
       " 'min_year',\n",
       " 'max_year',\n",
       " 'abbreviation',\n",
       " 'nickname',\n",
       " 'yearfounded',\n",
       " 'city',\n",
       " 'arena',\n",
       " 'arenacapacity',\n",
       " 'owner',\n",
       " 'generalmanager',\n",
       " 'headcoach',\n",
       " 'dleagueaffiliation']"
      ]
     },
     "metadata": {},
     "execution_count": 5
    }
   ],
   "source": [
    "#List headers\n",
    "list(messy_teams_df)"
   ]
  },
  {
   "cell_type": "code",
   "execution_count": 6,
   "metadata": {},
   "outputs": [],
   "source": [
    "#Remove headers not needed\n",
    "clean_teams_df = messy_teams_df.drop(['league_id', 'min_year', 'max_year', 'yearfounded', 'arenacapacity', 'owner', 'generalmanager', 'headcoach', 'dleagueaffiliation'], axis = 1)"
   ]
  },
  {
   "cell_type": "code",
   "execution_count": 7,
   "metadata": {},
   "outputs": [],
   "source": [
    "#Export df to csv in outputs file\n",
    "clean_teams_df.to_csv('../outputs/teams_cleaned.csv', index = False)"
   ]
  },
  {
   "cell_type": "code",
   "execution_count": null,
   "metadata": {},
   "outputs": [],
   "source": []
  }
 ],
 "metadata": {
  "kernelspec": {
   "display_name": "Python 3",
   "language": "python",
   "name": "python3"
  },
  "language_info": {
   "codemirror_mode": {
    "name": "ipython",
    "version": 3
   },
   "file_extension": ".py",
   "mimetype": "text/x-python",
   "name": "python",
   "nbconvert_exporter": "python",
   "pygments_lexer": "ipython3",
   "version": "3.8.3-final"
  }
 },
 "nbformat": 4,
 "nbformat_minor": 2
}