{
 "cells": [
  {
   "cell_type": "code",
   "execution_count": 1,
   "metadata": {},
   "outputs": [
    {
     "name": "stdout",
     "output_type": "stream",
     "text": [
      "Requirement already satisfied: pymongo in /opt/anaconda3/lib/python3.8/site-packages (3.11.2)\n",
      "Requirement already satisfied: splinter in /opt/anaconda3/lib/python3.8/site-packages (0.14.0)\n",
      "Requirement already satisfied: selenium>=3.141.0 in /opt/anaconda3/lib/python3.8/site-packages (from splinter) (3.141.0)\n",
      "Requirement already satisfied: six in /opt/anaconda3/lib/python3.8/site-packages (from splinter) (1.15.0)\n",
      "Requirement already satisfied: urllib3 in /opt/anaconda3/lib/python3.8/site-packages (from selenium>=3.141.0->splinter) (1.25.9)\n",
      "Requirement already satisfied: webdriver_manager in /opt/anaconda3/lib/python3.8/site-packages (3.2.2)\n",
      "Requirement already satisfied: configparser in /opt/anaconda3/lib/python3.8/site-packages (from webdriver_manager) (5.0.1)\n",
      "Requirement already satisfied: crayons in /opt/anaconda3/lib/python3.8/site-packages (from webdriver_manager) (0.4.0)\n",
      "Requirement already satisfied: requests in /opt/anaconda3/lib/python3.8/site-packages (from webdriver_manager) (2.24.0)\n",
      "Requirement already satisfied: colorama in /opt/anaconda3/lib/python3.8/site-packages (from crayons->webdriver_manager) (0.4.3)\n",
      "Requirement already satisfied: urllib3!=1.25.0,!=1.25.1,<1.26,>=1.21.1 in /opt/anaconda3/lib/python3.8/site-packages (from requests->webdriver_manager) (1.25.9)\n",
      "Requirement already satisfied: certifi>=2017.4.17 in /opt/anaconda3/lib/python3.8/site-packages (from requests->webdriver_manager) (2020.6.20)\n",
      "Requirement already satisfied: chardet<4,>=3.0.2 in /opt/anaconda3/lib/python3.8/site-packages (from requests->webdriver_manager) (3.0.4)\n",
      "Requirement already satisfied: idna<3,>=2.5 in /opt/anaconda3/lib/python3.8/site-packages (from requests->webdriver_manager) (2.10)\n"
     ]
    },
    {
     "name": "stderr",
     "output_type": "stream",
     "text": [
      "[WDM] - Current google-chrome version is 87.0.4280\n",
      "[WDM] - Get LATEST driver version for 87.0.4280\n",
      "[WDM] - Driver [/Users/jerkardash/.wdm/drivers/chromedriver/mac64/87.0.4280.88/chromedriver] found in cache\n"
     ]
    },
    {
     "name": "stdout",
     "output_type": "stream",
     "text": [
      " \n"
     ]
    }
   ],
   "source": [
    "# Extract\n",
    "#!pip install pymongo\n",
    "#!pip install splinter\n",
    "#!pip install webdriver_manager\n",
    "print(\"Starting extract...\")\n",
    "%run web_scraper/contract_scrape.ipynb\n",
    "%run data_validation.ipynb\n",
    "print(\"Extract Complete\")"
   ]
  },
  {
   "cell_type": "code",
   "execution_count": 2,
   "metadata": {},
   "outputs": [
    {
     "name": "stdout",
     "output_type": "stream",
     "text": [
      "Transform Complete\n"
     ]
    }
   ],
   "source": [
    "# Transform\n",
    "print(\"Starting transform...\")\n",
    "%run combine_stats_clean.ipynb\n",
    "%run players_table_maker.ipynb\n",
    "%run salary_clean.ipynb\n",
    "%run stats_cleaner.ipynb\n",
    "%run teams_games_cleaner.ipynb\n",
    "print(\"Transform Complete\")"
   ]
  },
  {
   "cell_type": "code",
   "execution_count": 3,
   "metadata": {},
   "outputs": [
    {
     "name": "stdout",
     "output_type": "stream",
     "text": [
      "['players', 'teams', 'players_team', 'salary', 'combine', 'games', 'stats']\n",
      "Load Complate. NBA2018.db is accessible in your pgAdmin!\n"
     ]
    }
   ],
   "source": [
    "#Load\n",
    "print(\"Starting load...\")\n",
    "%run Export_to_SQL.ipynb\n",
    "print(\"Load Complate. NBA2018.db is accessible in your pgAdmin!\")"
   ]
  },
  {
   "cell_type": "code",
   "execution_count": null,
   "metadata": {},
   "outputs": [],
   "source": []
  }
 ],
 "metadata": {
  "kernelspec": {
   "display_name": "Python 3",
   "language": "python",
   "name": "python3"
  },
  "language_info": {
   "codemirror_mode": {
    "name": "ipython",
    "version": 3
   },
   "file_extension": ".py",
   "mimetype": "text/x-python",
   "name": "python",
   "nbconvert_exporter": "python",
   "pygments_lexer": "ipython3",
   "version": "3.8.3"
  }
 },
 "nbformat": 4,
 "nbformat_minor": 2
}
