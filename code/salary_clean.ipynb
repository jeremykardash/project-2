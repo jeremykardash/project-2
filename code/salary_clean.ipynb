{
 "cells": [
  {
   "cell_type": "code",
   "execution_count": 5,
   "metadata": {},
   "outputs": [],
   "source": [
    "#Import dependecies\n",
    "import pandas as pd \n",
    "import os "
   ]
  },
  {
   "cell_type": "code",
   "execution_count": 6,
   "metadata": {},
   "outputs": [],
   "source": [
    "#Filepath to salary\n",
    "filepath_1 = os.path.join(\"..\",\"Validated_Data\",\"player_salary_val.csv\")"
   ]
  },
  {
   "cell_type": "code",
   "execution_count": 7,
   "metadata": {},
   "outputs": [
    {
     "data": {
      "text/html": [
       "<div>\n",
       "<style scoped>\n",
       "    .dataframe tbody tr th:only-of-type {\n",
       "        vertical-align: middle;\n",
       "    }\n",
       "\n",
       "    .dataframe tbody tr th {\n",
       "        vertical-align: top;\n",
       "    }\n",
       "\n",
       "    .dataframe thead th {\n",
       "        text-align: right;\n",
       "    }\n",
       "</style>\n",
       "<table border=\"1\" class=\"dataframe\">\n",
       "  <thead>\n",
       "    <tr style=\"text-align: right;\">\n",
       "      <th></th>\n",
       "      <th>unnamed:_0</th>\n",
       "      <th>player_name</th>\n",
       "      <th>salary</th>\n",
       "    </tr>\n",
       "  </thead>\n",
       "  <tbody>\n",
       "    <tr>\n",
       "      <th>0</th>\n",
       "      <td>0</td>\n",
       "      <td>Stephen Curry</td>\n",
       "      <td>$40,231,758</td>\n",
       "    </tr>\n",
       "    <tr>\n",
       "      <th>1</th>\n",
       "      <td>1</td>\n",
       "      <td>Chris Paul</td>\n",
       "      <td>$38,506,482</td>\n",
       "    </tr>\n",
       "    <tr>\n",
       "      <th>2</th>\n",
       "      <td>2</td>\n",
       "      <td>Russell Westbrook</td>\n",
       "      <td>$38,506,482</td>\n",
       "    </tr>\n",
       "    <tr>\n",
       "      <th>3</th>\n",
       "      <td>3</td>\n",
       "      <td>James Harden</td>\n",
       "      <td>$38,199,000</td>\n",
       "    </tr>\n",
       "    <tr>\n",
       "      <th>4</th>\n",
       "      <td>4</td>\n",
       "      <td>Kevin Durant</td>\n",
       "      <td>$38,199,000</td>\n",
       "    </tr>\n",
       "    <tr>\n",
       "      <th>...</th>\n",
       "      <td>...</td>\n",
       "      <td>...</td>\n",
       "      <td>...</td>\n",
       "    </tr>\n",
       "    <tr>\n",
       "      <th>467</th>\n",
       "      <td>472</td>\n",
       "      <td>Marques Bolden</td>\n",
       "      <td>$50,752</td>\n",
       "    </tr>\n",
       "    <tr>\n",
       "      <th>468</th>\n",
       "      <td>473</td>\n",
       "      <td>Tyler Cook</td>\n",
       "      <td>$50,752</td>\n",
       "    </tr>\n",
       "    <tr>\n",
       "      <th>469</th>\n",
       "      <td>475</td>\n",
       "      <td>Sir'Dominic Pointer</td>\n",
       "      <td>$50,752</td>\n",
       "    </tr>\n",
       "    <tr>\n",
       "      <th>470</th>\n",
       "      <td>476</td>\n",
       "      <td>Paul Watson</td>\n",
       "      <td>$50,752</td>\n",
       "    </tr>\n",
       "    <tr>\n",
       "      <th>471</th>\n",
       "      <td>477</td>\n",
       "      <td>Donta Hall</td>\n",
       "      <td>$50,752</td>\n",
       "    </tr>\n",
       "  </tbody>\n",
       "</table>\n",
       "<p>472 rows × 3 columns</p>\n",
       "</div>"
      ],
      "text/plain": [
       "     unnamed:_0          player_name         salary\n",
       "0             0        Stephen Curry  $40,231,758  \n",
       "1             1           Chris Paul  $38,506,482  \n",
       "2             2    Russell Westbrook  $38,506,482  \n",
       "3             3         James Harden  $38,199,000  \n",
       "4             4         Kevin Durant  $38,199,000  \n",
       "..          ...                  ...            ...\n",
       "467         472       Marques Bolden      $50,752  \n",
       "468         473           Tyler Cook      $50,752  \n",
       "469         475  Sir'Dominic Pointer      $50,752  \n",
       "470         476          Paul Watson      $50,752  \n",
       "471         477           Donta Hall      $50,752  \n",
       "\n",
       "[472 rows x 3 columns]"
      ]
     },
     "execution_count": 7,
     "metadata": {},
     "output_type": "execute_result"
    }
   ],
   "source": [
    "#Salary as df\n",
    "salary_df = pd.read_csv(filepath_1)\n",
    "salary_df"
   ]
  },
  {
   "cell_type": "code",
   "execution_count": 8,
   "metadata": {},
   "outputs": [],
   "source": [
    "clean_salary_df = salary_df"
   ]
  },
  {
   "cell_type": "code",
   "execution_count": 9,
   "metadata": {},
   "outputs": [
    {
     "data": {
      "text/plain": [
       "unnamed:_0      int64\n",
       "player_name    object\n",
       "salary          int64\n",
       "dtype: object"
      ]
     },
     "execution_count": 9,
     "metadata": {},
     "output_type": "execute_result"
    }
   ],
   "source": [
    "#Removie \".\" for more player mathes\n",
    "clean_salary_df['player_name'] = clean_salary_df['player_name'].str.replace('.','')\n",
    "clean_salary_df[\"salary\"] = clean_salary_df[\"salary\"].str.replace(\"$\", '').str.replace(\",\", '')\n",
    "clean_salary_df['salary'] = clean_salary_df['salary'].astype(int)\n",
    "clean_salary_df.dtypes"
   ]
  },
  {
   "cell_type": "code",
   "execution_count": 10,
   "metadata": {},
   "outputs": [],
   "source": [
    "#Filepath to players for playerID\n",
    "filepath_2 = os.path.join(\"..\",\"Validated_Data\",\"players_val.csv\")"
   ]
  },
  {
   "cell_type": "code",
   "execution_count": 11,
   "metadata": {},
   "outputs": [
    {
     "data": {
      "text/plain": [
       "player_name    object\n",
       "team_id         int64\n",
       "player_id       int64\n",
       "season          int64\n",
       "dtype: object"
      ]
     },
     "execution_count": 11,
     "metadata": {},
     "output_type": "execute_result"
    }
   ],
   "source": [
    "player_df = pd.read_csv(filepath_2)\n",
    "\n",
    "#Removie \".\" for more player mathes\n",
    "player_df['player_name'] = player_df['player_name'].str.replace('.','')\n",
    "player_df.dtypes"
   ]
  },
  {
   "cell_type": "code",
   "execution_count": 12,
   "metadata": {},
   "outputs": [],
   "source": [
    "#Clean players for players only in 2018 season\n",
    "players = player_df.loc[player_df['season'] == 2018]"
   ]
  },
  {
   "cell_type": "code",
   "execution_count": 13,
   "metadata": {},
   "outputs": [],
   "source": [
    "#Merge for Player_ID as priamry key\n",
    "merge_salary_df = pd.merge(clean_salary_df, players, on=\"player_name\", how = 'inner')"
   ]
  },
  {
   "cell_type": "code",
   "execution_count": 14,
   "metadata": {},
   "outputs": [],
   "source": [
    "cleaned_salary_df = merge_salary_df.drop_duplicates(subset=['player_name'])"
   ]
  },
  {
   "cell_type": "code",
   "execution_count": 15,
   "metadata": {},
   "outputs": [],
   "source": [
    "cleaned_salary_df = cleaned_salary_df[[\"player_id\", \"team_id\", \"player_name\", \"salary\",  \"season\"]]"
   ]
  },
  {
   "cell_type": "code",
   "execution_count": 16,
   "metadata": {},
   "outputs": [],
   "source": [
    "cleaned_salary_df.to_csv(\"../outputs/salary_clean.csv\", index=False)"
   ]
  },
  {
   "cell_type": "code",
   "execution_count": null,
   "metadata": {},
   "outputs": [],
   "source": []
  }
 ],
 "metadata": {
  "kernelspec": {
   "display_name": "Python 3",
   "language": "python",
   "name": "python3"
  },
  "language_info": {
   "codemirror_mode": {
    "name": "ipython",
    "version": 3
   },
   "file_extension": ".py",
   "mimetype": "text/x-python",
   "name": "python",
   "nbconvert_exporter": "python",
   "pygments_lexer": "ipython3",
   "version": "3.8.3"
  }
 },
 "nbformat": 4,
 "nbformat_minor": 4
}
