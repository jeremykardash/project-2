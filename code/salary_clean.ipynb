{
 "cells": [
  {
   "cell_type": "code",
   "execution_count": 2,
   "metadata": {},
   "outputs": [],
   "source": [
    "#Import dependecies\n",
    "import pandas as pd \n",
    "import os "
   ]
  },
  {
   "cell_type": "code",
   "execution_count": 14,
   "metadata": {},
   "outputs": [],
   "source": [
    "#Filepath to salary\n",
    "filepath_1 = os.path.join(\"..\",\"Validated_Data\",\"player_salary_val.csv\")"
   ]
  },
  {
   "cell_type": "code",
   "execution_count": 17,
   "metadata": {},
   "outputs": [
    {
     "output_type": "execute_result",
     "data": {
      "text/plain": [
       "     unnamed:_0          player_name         salary\n",
       "0             0        Stephen Curry  $40,231,758  \n",
       "1             1           Chris Paul  $38,506,482  \n",
       "2             2    Russell Westbrook  $38,506,482  \n",
       "3             3         James Harden  $38,199,000  \n",
       "4             4         Kevin Durant  $38,199,000  \n",
       "..          ...                  ...            ...\n",
       "467         472       Marques Bolden      $50,752  \n",
       "468         473           Tyler Cook      $50,752  \n",
       "469         475  Sir'Dominic Pointer      $50,752  \n",
       "470         476          Paul Watson      $50,752  \n",
       "471         477           Donta Hall      $50,752  \n",
       "\n",
       "[472 rows x 3 columns]"
      ],
      "text/html": "<div>\n<style scoped>\n    .dataframe tbody tr th:only-of-type {\n        vertical-align: middle;\n    }\n\n    .dataframe tbody tr th {\n        vertical-align: top;\n    }\n\n    .dataframe thead th {\n        text-align: right;\n    }\n</style>\n<table border=\"1\" class=\"dataframe\">\n  <thead>\n    <tr style=\"text-align: right;\">\n      <th></th>\n      <th>unnamed:_0</th>\n      <th>player_name</th>\n      <th>salary</th>\n    </tr>\n  </thead>\n  <tbody>\n    <tr>\n      <th>0</th>\n      <td>0</td>\n      <td>Stephen Curry</td>\n      <td>$40,231,758</td>\n    </tr>\n    <tr>\n      <th>1</th>\n      <td>1</td>\n      <td>Chris Paul</td>\n      <td>$38,506,482</td>\n    </tr>\n    <tr>\n      <th>2</th>\n      <td>2</td>\n      <td>Russell Westbrook</td>\n      <td>$38,506,482</td>\n    </tr>\n    <tr>\n      <th>3</th>\n      <td>3</td>\n      <td>James Harden</td>\n      <td>$38,199,000</td>\n    </tr>\n    <tr>\n      <th>4</th>\n      <td>4</td>\n      <td>Kevin Durant</td>\n      <td>$38,199,000</td>\n    </tr>\n    <tr>\n      <th>...</th>\n      <td>...</td>\n      <td>...</td>\n      <td>...</td>\n    </tr>\n    <tr>\n      <th>467</th>\n      <td>472</td>\n      <td>Marques Bolden</td>\n      <td>$50,752</td>\n    </tr>\n    <tr>\n      <th>468</th>\n      <td>473</td>\n      <td>Tyler Cook</td>\n      <td>$50,752</td>\n    </tr>\n    <tr>\n      <th>469</th>\n      <td>475</td>\n      <td>Sir'Dominic Pointer</td>\n      <td>$50,752</td>\n    </tr>\n    <tr>\n      <th>470</th>\n      <td>476</td>\n      <td>Paul Watson</td>\n      <td>$50,752</td>\n    </tr>\n    <tr>\n      <th>471</th>\n      <td>477</td>\n      <td>Donta Hall</td>\n      <td>$50,752</td>\n    </tr>\n  </tbody>\n</table>\n<p>472 rows × 3 columns</p>\n</div>"
     },
     "metadata": {},
     "execution_count": 17
    }
   ],
   "source": [
    "#Salary as df\n",
    "salary_df = pd.read_csv(filepath_1)\n",
    "salary_df"
   ]
  },
  {
   "cell_type": "code",
   "execution_count": 18,
   "metadata": {},
   "outputs": [],
   "source": [
    "clean_salary_df = salary_df"
   ]
  },
  {
   "cell_type": "code",
   "execution_count": 21,
   "metadata": {},
   "outputs": [
    {
     "output_type": "execute_result",
     "data": {
      "text/plain": [
       "     unnamed:_0          player_name         salary\n",
       "0             0        Stephen Curry  $40,231,758  \n",
       "1             1           Chris Paul  $38,506,482  \n",
       "2             2    Russell Westbrook  $38,506,482  \n",
       "3             3         James Harden  $38,199,000  \n",
       "4             4         Kevin Durant  $38,199,000  \n",
       "..          ...                  ...            ...\n",
       "467         472       Marques Bolden      $50,752  \n",
       "468         473           Tyler Cook      $50,752  \n",
       "469         475  Sir'Dominic Pointer      $50,752  \n",
       "470         476          Paul Watson      $50,752  \n",
       "471         477           Donta Hall      $50,752  \n",
       "\n",
       "[472 rows x 3 columns]"
      ],
      "text/html": "<div>\n<style scoped>\n    .dataframe tbody tr th:only-of-type {\n        vertical-align: middle;\n    }\n\n    .dataframe tbody tr th {\n        vertical-align: top;\n    }\n\n    .dataframe thead th {\n        text-align: right;\n    }\n</style>\n<table border=\"1\" class=\"dataframe\">\n  <thead>\n    <tr style=\"text-align: right;\">\n      <th></th>\n      <th>unnamed:_0</th>\n      <th>player_name</th>\n      <th>salary</th>\n    </tr>\n  </thead>\n  <tbody>\n    <tr>\n      <th>0</th>\n      <td>0</td>\n      <td>Stephen Curry</td>\n      <td>$40,231,758</td>\n    </tr>\n    <tr>\n      <th>1</th>\n      <td>1</td>\n      <td>Chris Paul</td>\n      <td>$38,506,482</td>\n    </tr>\n    <tr>\n      <th>2</th>\n      <td>2</td>\n      <td>Russell Westbrook</td>\n      <td>$38,506,482</td>\n    </tr>\n    <tr>\n      <th>3</th>\n      <td>3</td>\n      <td>James Harden</td>\n      <td>$38,199,000</td>\n    </tr>\n    <tr>\n      <th>4</th>\n      <td>4</td>\n      <td>Kevin Durant</td>\n      <td>$38,199,000</td>\n    </tr>\n    <tr>\n      <th>...</th>\n      <td>...</td>\n      <td>...</td>\n      <td>...</td>\n    </tr>\n    <tr>\n      <th>467</th>\n      <td>472</td>\n      <td>Marques Bolden</td>\n      <td>$50,752</td>\n    </tr>\n    <tr>\n      <th>468</th>\n      <td>473</td>\n      <td>Tyler Cook</td>\n      <td>$50,752</td>\n    </tr>\n    <tr>\n      <th>469</th>\n      <td>475</td>\n      <td>Sir'Dominic Pointer</td>\n      <td>$50,752</td>\n    </tr>\n    <tr>\n      <th>470</th>\n      <td>476</td>\n      <td>Paul Watson</td>\n      <td>$50,752</td>\n    </tr>\n    <tr>\n      <th>471</th>\n      <td>477</td>\n      <td>Donta Hall</td>\n      <td>$50,752</td>\n    </tr>\n  </tbody>\n</table>\n<p>472 rows × 3 columns</p>\n</div>"
     },
     "metadata": {},
     "execution_count": 21
    }
   ],
   "source": [
    "#Removie \".\" for more player mathes\n",
    "clean_salary_df['player_name'] = clean_salary_df['player_name'].str.replace('.','')\n",
    "clean_salary_df"
   ]
  },
  {
   "cell_type": "code",
   "execution_count": 34,
   "metadata": {},
   "outputs": [],
   "source": [
    "#Filepath to players for playerID\n",
    "filepath_2 = os.path.join(\"..\",\"Validated_Data\",\"players_val.csv\")"
   ]
  },
  {
   "cell_type": "code",
   "execution_count": 35,
   "metadata": {},
   "outputs": [
    {
     "output_type": "execute_result",
     "data": {
      "text/plain": [
       "           player_name     team_id  player_id  season\n",
       "0        Royce O'Neale  1610612762    1626220    2019\n",
       "1     Bojan Bogdanovic  1610612762     202711    2019\n",
       "2          Rudy Gobert  1610612762     203497    2019\n",
       "3     Donovan Mitchell  1610612762    1628378    2019\n",
       "4          Mike Conley  1610612762     201144    2019\n",
       "...                ...         ...        ...     ...\n",
       "7223       Lanny Smith  1610612758     201831    2009\n",
       "7224     Warren Carter  1610612752     201999    2009\n",
       "7225      Bennet Davis  1610612751     201834    2009\n",
       "7226    Brian Hamilton  1610612751     201646    2009\n",
       "7227   Wesley Matthews  1610612762     500032    2009\n",
       "\n",
       "[7228 rows x 4 columns]"
      ],
      "text/html": "<div>\n<style scoped>\n    .dataframe tbody tr th:only-of-type {\n        vertical-align: middle;\n    }\n\n    .dataframe tbody tr th {\n        vertical-align: top;\n    }\n\n    .dataframe thead th {\n        text-align: right;\n    }\n</style>\n<table border=\"1\" class=\"dataframe\">\n  <thead>\n    <tr style=\"text-align: right;\">\n      <th></th>\n      <th>player_name</th>\n      <th>team_id</th>\n      <th>player_id</th>\n      <th>season</th>\n    </tr>\n  </thead>\n  <tbody>\n    <tr>\n      <th>0</th>\n      <td>Royce O'Neale</td>\n      <td>1610612762</td>\n      <td>1626220</td>\n      <td>2019</td>\n    </tr>\n    <tr>\n      <th>1</th>\n      <td>Bojan Bogdanovic</td>\n      <td>1610612762</td>\n      <td>202711</td>\n      <td>2019</td>\n    </tr>\n    <tr>\n      <th>2</th>\n      <td>Rudy Gobert</td>\n      <td>1610612762</td>\n      <td>203497</td>\n      <td>2019</td>\n    </tr>\n    <tr>\n      <th>3</th>\n      <td>Donovan Mitchell</td>\n      <td>1610612762</td>\n      <td>1628378</td>\n      <td>2019</td>\n    </tr>\n    <tr>\n      <th>4</th>\n      <td>Mike Conley</td>\n      <td>1610612762</td>\n      <td>201144</td>\n      <td>2019</td>\n    </tr>\n    <tr>\n      <th>...</th>\n      <td>...</td>\n      <td>...</td>\n      <td>...</td>\n      <td>...</td>\n    </tr>\n    <tr>\n      <th>7223</th>\n      <td>Lanny Smith</td>\n      <td>1610612758</td>\n      <td>201831</td>\n      <td>2009</td>\n    </tr>\n    <tr>\n      <th>7224</th>\n      <td>Warren Carter</td>\n      <td>1610612752</td>\n      <td>201999</td>\n      <td>2009</td>\n    </tr>\n    <tr>\n      <th>7225</th>\n      <td>Bennet Davis</td>\n      <td>1610612751</td>\n      <td>201834</td>\n      <td>2009</td>\n    </tr>\n    <tr>\n      <th>7226</th>\n      <td>Brian Hamilton</td>\n      <td>1610612751</td>\n      <td>201646</td>\n      <td>2009</td>\n    </tr>\n    <tr>\n      <th>7227</th>\n      <td>Wesley Matthews</td>\n      <td>1610612762</td>\n      <td>500032</td>\n      <td>2009</td>\n    </tr>\n  </tbody>\n</table>\n<p>7228 rows × 4 columns</p>\n</div>"
     },
     "metadata": {},
     "execution_count": 35
    }
   ],
   "source": [
    "player_df = pd.read_csv(filepath_2)\n",
    "\n",
    "#Removie \".\" for more player mathes\n",
    "player_df['player_name'] = player_df['player_name'].str.replace('.','')\n",
    "player_df"
   ]
  },
  {
   "cell_type": "code",
   "execution_count": 36,
   "metadata": {},
   "outputs": [],
   "source": [
    "#Clean players for players only in 2018 season\n",
    "players = player_df.loc[player_df['season'] == 2018]"
   ]
  },
  {
   "cell_type": "code",
   "execution_count": 37,
   "metadata": {},
   "outputs": [],
   "source": [
    "#Merge for Player_ID as priamry key\n",
    "merge_salary_df = pd.merge(clean_salary_df, players, on=\"player_name\", how = 'inner')"
   ]
  },
  {
   "cell_type": "code",
   "execution_count": 38,
   "metadata": {},
   "outputs": [],
   "source": [
    "cleaned_salary_df = merge_salary_df.drop_duplicates(subset=['player_name'])"
   ]
  },
  {
   "cell_type": "code",
   "execution_count": 39,
   "metadata": {},
   "outputs": [
    {
     "output_type": "execute_result",
     "data": {
      "text/plain": [
       "     unnamed:_0        player_name         salary     team_id  player_id  \\\n",
       "0             0      Stephen Curry  $40,231,758    1610612744     201939   \n",
       "1             1         Chris Paul  $38,506,482    1610612745     101108   \n",
       "2             2  Russell Westbrook  $38,506,482    1610612760     201566   \n",
       "3             3       James Harden  $38,199,000    1610612745     201935   \n",
       "4             4       Kevin Durant  $38,199,000    1610612744     201142   \n",
       "..          ...                ...            ...         ...        ...   \n",
       "434         459      Dusty Hannahs      $81,678    1610612763    1628605   \n",
       "435         464       Jonah Bolden      $81,678    1610612755    1628413   \n",
       "436         465        Joe Chealey      $81,678    1610612766    1629147   \n",
       "437         467  Derrick Walton Jr      $81,678    1610612741    1628476   \n",
       "438         468       Malik Newman      $65,975    1610612748    1629005   \n",
       "\n",
       "     season  \n",
       "0      2018  \n",
       "1      2018  \n",
       "2      2018  \n",
       "3      2018  \n",
       "4      2018  \n",
       "..      ...  \n",
       "434    2018  \n",
       "435    2018  \n",
       "436    2018  \n",
       "437    2018  \n",
       "438    2018  \n",
       "\n",
       "[367 rows x 6 columns]"
      ],
      "text/html": "<div>\n<style scoped>\n    .dataframe tbody tr th:only-of-type {\n        vertical-align: middle;\n    }\n\n    .dataframe tbody tr th {\n        vertical-align: top;\n    }\n\n    .dataframe thead th {\n        text-align: right;\n    }\n</style>\n<table border=\"1\" class=\"dataframe\">\n  <thead>\n    <tr style=\"text-align: right;\">\n      <th></th>\n      <th>unnamed:_0</th>\n      <th>player_name</th>\n      <th>salary</th>\n      <th>team_id</th>\n      <th>player_id</th>\n      <th>season</th>\n    </tr>\n  </thead>\n  <tbody>\n    <tr>\n      <th>0</th>\n      <td>0</td>\n      <td>Stephen Curry</td>\n      <td>$40,231,758</td>\n      <td>1610612744</td>\n      <td>201939</td>\n      <td>2018</td>\n    </tr>\n    <tr>\n      <th>1</th>\n      <td>1</td>\n      <td>Chris Paul</td>\n      <td>$38,506,482</td>\n      <td>1610612745</td>\n      <td>101108</td>\n      <td>2018</td>\n    </tr>\n    <tr>\n      <th>2</th>\n      <td>2</td>\n      <td>Russell Westbrook</td>\n      <td>$38,506,482</td>\n      <td>1610612760</td>\n      <td>201566</td>\n      <td>2018</td>\n    </tr>\n    <tr>\n      <th>3</th>\n      <td>3</td>\n      <td>James Harden</td>\n      <td>$38,199,000</td>\n      <td>1610612745</td>\n      <td>201935</td>\n      <td>2018</td>\n    </tr>\n    <tr>\n      <th>4</th>\n      <td>4</td>\n      <td>Kevin Durant</td>\n      <td>$38,199,000</td>\n      <td>1610612744</td>\n      <td>201142</td>\n      <td>2018</td>\n    </tr>\n    <tr>\n      <th>...</th>\n      <td>...</td>\n      <td>...</td>\n      <td>...</td>\n      <td>...</td>\n      <td>...</td>\n      <td>...</td>\n    </tr>\n    <tr>\n      <th>434</th>\n      <td>459</td>\n      <td>Dusty Hannahs</td>\n      <td>$81,678</td>\n      <td>1610612763</td>\n      <td>1628605</td>\n      <td>2018</td>\n    </tr>\n    <tr>\n      <th>435</th>\n      <td>464</td>\n      <td>Jonah Bolden</td>\n      <td>$81,678</td>\n      <td>1610612755</td>\n      <td>1628413</td>\n      <td>2018</td>\n    </tr>\n    <tr>\n      <th>436</th>\n      <td>465</td>\n      <td>Joe Chealey</td>\n      <td>$81,678</td>\n      <td>1610612766</td>\n      <td>1629147</td>\n      <td>2018</td>\n    </tr>\n    <tr>\n      <th>437</th>\n      <td>467</td>\n      <td>Derrick Walton Jr</td>\n      <td>$81,678</td>\n      <td>1610612741</td>\n      <td>1628476</td>\n      <td>2018</td>\n    </tr>\n    <tr>\n      <th>438</th>\n      <td>468</td>\n      <td>Malik Newman</td>\n      <td>$65,975</td>\n      <td>1610612748</td>\n      <td>1629005</td>\n      <td>2018</td>\n    </tr>\n  </tbody>\n</table>\n<p>367 rows × 6 columns</p>\n</div>"
     },
     "metadata": {},
     "execution_count": 39
    }
   ],
   "source": [
    "cleaned_salary_df"
   ]
  },
  {
   "cell_type": "code",
   "execution_count": 40,
   "metadata": {},
   "outputs": [],
   "source": [
    "cleaned_salary_df.to_csv(\"../outputs/salary_clean.csv\", index=False)"
   ]
  },
  {
   "cell_type": "code",
   "execution_count": null,
   "metadata": {},
   "outputs": [],
   "source": []
  }
 ],
 "metadata": {
  "kernelspec": {
   "display_name": "Python 3",
   "language": "python",
   "name": "python3"
  },
  "language_info": {
   "codemirror_mode": {
    "name": "ipython",
    "version": 3
   },
   "file_extension": ".py",
   "mimetype": "text/x-python",
   "name": "python",
   "nbconvert_exporter": "python",
   "pygments_lexer": "ipython3",
   "version": "3.8.3-final"
  }
 },
 "nbformat": 4,
 "nbformat_minor": 4
}