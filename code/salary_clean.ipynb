{
 "cells": [
  {
   "cell_type": "code",
   "execution_count": 28,
   "metadata": {},
   "outputs": [],
   "source": [
    "import pandas as pd \n",
    "import os"
   ]
  },
  {
   "cell_type": "code",
   "execution_count": 29,
   "metadata": {},
   "outputs": [],
   "source": [
    "filepath_1 = os.path.join(\"..\",\"outputs\",\"salary.csv\")"
   ]
  },
  {
   "cell_type": "code",
   "execution_count": 30,
   "metadata": {},
   "outputs": [],
   "source": [
    "salary_df = pd.read_csv(filepath_1)"
   ]
  },
  {
   "cell_type": "code",
   "execution_count": 31,
   "metadata": {},
   "outputs": [],
   "source": [
    "rename_salary = salary_df.rename(columns={\"player_name\":\"PLAYER_NAME\",\"salary\":\"SALARY\"})\n",
    "clean_salary_df = rename_salary"
   ]
  },
  {
   "cell_type": "code",
   "execution_count": 32,
   "metadata": {},
   "outputs": [
    {
     "output_type": "execute_result",
     "data": {
      "text/plain": [
       "           PLAYER_NAME         SALARY\n",
       "0        Stephen Curry  $37,457,154  \n",
       "1    Russell Westbrook  $35,654,150  \n",
       "2         LeBron James  $35,654,150  \n",
       "3           Chris Paul  $35,654,150  \n",
       "4           Kyle Lowry  $32,700,000  \n",
       "..                 ...            ...\n",
       "495      Tarik Phillip       $9,474  \n",
       "496    Duncan Robinson       $9,474  \n",
       "497        Mitch Creek       $9,474  \n",
       "498      Kendrick Nunn       $4,737  \n",
       "499        Theo Pinson       $4,737  \n",
       "\n",
       "[500 rows x 2 columns]"
      ],
      "text/html": "<div>\n<style scoped>\n    .dataframe tbody tr th:only-of-type {\n        vertical-align: middle;\n    }\n\n    .dataframe tbody tr th {\n        vertical-align: top;\n    }\n\n    .dataframe thead th {\n        text-align: right;\n    }\n</style>\n<table border=\"1\" class=\"dataframe\">\n  <thead>\n    <tr style=\"text-align: right;\">\n      <th></th>\n      <th>PLAYER_NAME</th>\n      <th>SALARY</th>\n    </tr>\n  </thead>\n  <tbody>\n    <tr>\n      <th>0</th>\n      <td>Stephen Curry</td>\n      <td>$37,457,154</td>\n    </tr>\n    <tr>\n      <th>1</th>\n      <td>Russell Westbrook</td>\n      <td>$35,654,150</td>\n    </tr>\n    <tr>\n      <th>2</th>\n      <td>LeBron James</td>\n      <td>$35,654,150</td>\n    </tr>\n    <tr>\n      <th>3</th>\n      <td>Chris Paul</td>\n      <td>$35,654,150</td>\n    </tr>\n    <tr>\n      <th>4</th>\n      <td>Kyle Lowry</td>\n      <td>$32,700,000</td>\n    </tr>\n    <tr>\n      <th>...</th>\n      <td>...</td>\n      <td>...</td>\n    </tr>\n    <tr>\n      <th>495</th>\n      <td>Tarik Phillip</td>\n      <td>$9,474</td>\n    </tr>\n    <tr>\n      <th>496</th>\n      <td>Duncan Robinson</td>\n      <td>$9,474</td>\n    </tr>\n    <tr>\n      <th>497</th>\n      <td>Mitch Creek</td>\n      <td>$9,474</td>\n    </tr>\n    <tr>\n      <th>498</th>\n      <td>Kendrick Nunn</td>\n      <td>$4,737</td>\n    </tr>\n    <tr>\n      <th>499</th>\n      <td>Theo Pinson</td>\n      <td>$4,737</td>\n    </tr>\n  </tbody>\n</table>\n<p>500 rows × 2 columns</p>\n</div>"
     },
     "metadata": {},
     "execution_count": 32
    }
   ],
   "source": [
    "clean_salary_df['PLAYER_NAME'] = clean_salary_df['PLAYER_NAME'].str.replace('.','')\n",
    "clean_salary_df"
   ]
  },
  {
   "cell_type": "code",
   "execution_count": 33,
   "metadata": {},
   "outputs": [],
   "source": [
    "filepath_2 = os.path.join(\"..\",\"Resources\",\"players.csv\")"
   ]
  },
  {
   "cell_type": "code",
   "execution_count": 34,
   "metadata": {},
   "outputs": [
    {
     "output_type": "execute_result",
     "data": {
      "text/plain": [
       "           PLAYER_NAME     TEAM_ID  PLAYER_ID  SEASON\n",
       "0        Royce O'Neale  1610612762    1626220    2019\n",
       "1     Bojan Bogdanovic  1610612762     202711    2019\n",
       "2          Rudy Gobert  1610612762     203497    2019\n",
       "3     Donovan Mitchell  1610612762    1628378    2019\n",
       "4          Mike Conley  1610612762     201144    2019\n",
       "...                ...         ...        ...     ...\n",
       "7223       Lanny Smith  1610612758     201831    2009\n",
       "7224     Warren Carter  1610612752     201999    2009\n",
       "7225      Bennet Davis  1610612751     201834    2009\n",
       "7226    Brian Hamilton  1610612751     201646    2009\n",
       "7227   Wesley Matthews  1610612762     500032    2009\n",
       "\n",
       "[7228 rows x 4 columns]"
      ],
      "text/html": "<div>\n<style scoped>\n    .dataframe tbody tr th:only-of-type {\n        vertical-align: middle;\n    }\n\n    .dataframe tbody tr th {\n        vertical-align: top;\n    }\n\n    .dataframe thead th {\n        text-align: right;\n    }\n</style>\n<table border=\"1\" class=\"dataframe\">\n  <thead>\n    <tr style=\"text-align: right;\">\n      <th></th>\n      <th>PLAYER_NAME</th>\n      <th>TEAM_ID</th>\n      <th>PLAYER_ID</th>\n      <th>SEASON</th>\n    </tr>\n  </thead>\n  <tbody>\n    <tr>\n      <th>0</th>\n      <td>Royce O'Neale</td>\n      <td>1610612762</td>\n      <td>1626220</td>\n      <td>2019</td>\n    </tr>\n    <tr>\n      <th>1</th>\n      <td>Bojan Bogdanovic</td>\n      <td>1610612762</td>\n      <td>202711</td>\n      <td>2019</td>\n    </tr>\n    <tr>\n      <th>2</th>\n      <td>Rudy Gobert</td>\n      <td>1610612762</td>\n      <td>203497</td>\n      <td>2019</td>\n    </tr>\n    <tr>\n      <th>3</th>\n      <td>Donovan Mitchell</td>\n      <td>1610612762</td>\n      <td>1628378</td>\n      <td>2019</td>\n    </tr>\n    <tr>\n      <th>4</th>\n      <td>Mike Conley</td>\n      <td>1610612762</td>\n      <td>201144</td>\n      <td>2019</td>\n    </tr>\n    <tr>\n      <th>...</th>\n      <td>...</td>\n      <td>...</td>\n      <td>...</td>\n      <td>...</td>\n    </tr>\n    <tr>\n      <th>7223</th>\n      <td>Lanny Smith</td>\n      <td>1610612758</td>\n      <td>201831</td>\n      <td>2009</td>\n    </tr>\n    <tr>\n      <th>7224</th>\n      <td>Warren Carter</td>\n      <td>1610612752</td>\n      <td>201999</td>\n      <td>2009</td>\n    </tr>\n    <tr>\n      <th>7225</th>\n      <td>Bennet Davis</td>\n      <td>1610612751</td>\n      <td>201834</td>\n      <td>2009</td>\n    </tr>\n    <tr>\n      <th>7226</th>\n      <td>Brian Hamilton</td>\n      <td>1610612751</td>\n      <td>201646</td>\n      <td>2009</td>\n    </tr>\n    <tr>\n      <th>7227</th>\n      <td>Wesley Matthews</td>\n      <td>1610612762</td>\n      <td>500032</td>\n      <td>2009</td>\n    </tr>\n  </tbody>\n</table>\n<p>7228 rows × 4 columns</p>\n</div>"
     },
     "metadata": {},
     "execution_count": 34
    }
   ],
   "source": [
    "player_df = pd.read_csv(filepath_2)\n",
    "player_df['PLAYER_NAME'] = player_df['PLAYER_NAME'].str.replace('.','')\n",
    "player_df"
   ]
  },
  {
   "cell_type": "code",
   "execution_count": 35,
   "metadata": {},
   "outputs": [],
   "source": [
    "players = player_df.loc[player_df['SEASON'] == 2018]"
   ]
  },
  {
   "cell_type": "code",
   "execution_count": 36,
   "metadata": {},
   "outputs": [],
   "source": [
    "merge_salary_df = pd.merge(clean_salary_df, players, on=\"PLAYER_NAME\", how = 'inner')"
   ]
  },
  {
   "cell_type": "code",
   "execution_count": 37,
   "metadata": {},
   "outputs": [],
   "source": [
    "cleaned_salary_df = merge_salary_df.drop_duplicates(subset=['PLAYER_NAME'])"
   ]
  },
  {
   "cell_type": "code",
   "execution_count": 38,
   "metadata": {},
   "outputs": [
    {
     "output_type": "execute_result",
     "data": {
      "text/plain": [
       "           PLAYER_NAME         SALARY     TEAM_ID  PLAYER_ID  SEASON\n",
       "0        Stephen Curry  $37,457,154    1610612744     201939    2018\n",
       "1    Russell Westbrook  $35,654,150    1610612760     201566    2018\n",
       "2         LeBron James  $35,654,150    1610612747       2544    2018\n",
       "3           Chris Paul  $35,654,150    1610612745     101108    2018\n",
       "4           Kyle Lowry  $32,700,000    1610612761     200768    2018\n",
       "..                 ...            ...         ...        ...     ...\n",
       "588    Jonathan Gibson      $17,092    1610612738    1626780    2018\n",
       "589        Yante Maten      $14,211    1610612748    1628999    2018\n",
       "590    Duncan Robinson       $9,474    1610612748    1629130    2018\n",
       "591      Kendrick Nunn       $4,737    1610612744    1629134    2018\n",
       "592        Theo Pinson       $4,737    1610612751    1629033    2018\n",
       "\n",
       "[445 rows x 5 columns]"
      ],
      "text/html": "<div>\n<style scoped>\n    .dataframe tbody tr th:only-of-type {\n        vertical-align: middle;\n    }\n\n    .dataframe tbody tr th {\n        vertical-align: top;\n    }\n\n    .dataframe thead th {\n        text-align: right;\n    }\n</style>\n<table border=\"1\" class=\"dataframe\">\n  <thead>\n    <tr style=\"text-align: right;\">\n      <th></th>\n      <th>PLAYER_NAME</th>\n      <th>SALARY</th>\n      <th>TEAM_ID</th>\n      <th>PLAYER_ID</th>\n      <th>SEASON</th>\n    </tr>\n  </thead>\n  <tbody>\n    <tr>\n      <th>0</th>\n      <td>Stephen Curry</td>\n      <td>$37,457,154</td>\n      <td>1610612744</td>\n      <td>201939</td>\n      <td>2018</td>\n    </tr>\n    <tr>\n      <th>1</th>\n      <td>Russell Westbrook</td>\n      <td>$35,654,150</td>\n      <td>1610612760</td>\n      <td>201566</td>\n      <td>2018</td>\n    </tr>\n    <tr>\n      <th>2</th>\n      <td>LeBron James</td>\n      <td>$35,654,150</td>\n      <td>1610612747</td>\n      <td>2544</td>\n      <td>2018</td>\n    </tr>\n    <tr>\n      <th>3</th>\n      <td>Chris Paul</td>\n      <td>$35,654,150</td>\n      <td>1610612745</td>\n      <td>101108</td>\n      <td>2018</td>\n    </tr>\n    <tr>\n      <th>4</th>\n      <td>Kyle Lowry</td>\n      <td>$32,700,000</td>\n      <td>1610612761</td>\n      <td>200768</td>\n      <td>2018</td>\n    </tr>\n    <tr>\n      <th>...</th>\n      <td>...</td>\n      <td>...</td>\n      <td>...</td>\n      <td>...</td>\n      <td>...</td>\n    </tr>\n    <tr>\n      <th>588</th>\n      <td>Jonathan Gibson</td>\n      <td>$17,092</td>\n      <td>1610612738</td>\n      <td>1626780</td>\n      <td>2018</td>\n    </tr>\n    <tr>\n      <th>589</th>\n      <td>Yante Maten</td>\n      <td>$14,211</td>\n      <td>1610612748</td>\n      <td>1628999</td>\n      <td>2018</td>\n    </tr>\n    <tr>\n      <th>590</th>\n      <td>Duncan Robinson</td>\n      <td>$9,474</td>\n      <td>1610612748</td>\n      <td>1629130</td>\n      <td>2018</td>\n    </tr>\n    <tr>\n      <th>591</th>\n      <td>Kendrick Nunn</td>\n      <td>$4,737</td>\n      <td>1610612744</td>\n      <td>1629134</td>\n      <td>2018</td>\n    </tr>\n    <tr>\n      <th>592</th>\n      <td>Theo Pinson</td>\n      <td>$4,737</td>\n      <td>1610612751</td>\n      <td>1629033</td>\n      <td>2018</td>\n    </tr>\n  </tbody>\n</table>\n<p>445 rows × 5 columns</p>\n</div>"
     },
     "metadata": {},
     "execution_count": 38
    }
   ],
   "source": [
    "cleaned_salary_df"
   ]
  },
  {
   "cell_type": "code",
   "execution_count": 39,
   "metadata": {},
   "outputs": [],
   "source": [
    "cleaned_salary_df.to_csv(\"../outputs/salary_clean.csv\", index=False)"
   ]
  },
  {
   "cell_type": "code",
   "execution_count": 40,
   "metadata": {},
   "outputs": [
    {
     "output_type": "execute_result",
     "data": {
      "text/plain": [
       "                 PLAYER_NAME     SALARY\n",
       "435            Cameron Payne  $85,458  \n",
       "436           Terrence Jones  $85,458  \n",
       "437             John Jenkins  $85,458  \n",
       "441            Deyonta Davis  $85,458  \n",
       "447  Michael Carter-Williams  $85,458  \n",
       "448            Isaiah Canaan  $85,458  \n",
       "449            Isaiah Canaan  $85,458  \n",
       "450             Corey Brewer  $85,458  \n",
       "451             Corey Brewer  $85,458  \n",
       "456               Quincy Acy  $85,458  \n",
       "458            Bruno Caboclo  $85,458  \n",
       "473               BJ Johnson  $47,371  \n",
       "478               BJ Johnson  $47,371  \n",
       "481              Mitch Creek  $47,371  \n",
       "483             Justin Bibbs  $47,371  \n",
       "484              Mitch Creek  $47,371  \n",
       "487            Emanuel Terry  $47,371  "
      ],
      "text/html": "<div>\n<style scoped>\n    .dataframe tbody tr th:only-of-type {\n        vertical-align: middle;\n    }\n\n    .dataframe tbody tr th {\n        vertical-align: top;\n    }\n\n    .dataframe thead th {\n        text-align: right;\n    }\n</style>\n<table border=\"1\" class=\"dataframe\">\n  <thead>\n    <tr style=\"text-align: right;\">\n      <th></th>\n      <th>PLAYER_NAME</th>\n      <th>SALARY</th>\n    </tr>\n  </thead>\n  <tbody>\n    <tr>\n      <th>435</th>\n      <td>Cameron Payne</td>\n      <td>$85,458</td>\n    </tr>\n    <tr>\n      <th>436</th>\n      <td>Terrence Jones</td>\n      <td>$85,458</td>\n    </tr>\n    <tr>\n      <th>437</th>\n      <td>John Jenkins</td>\n      <td>$85,458</td>\n    </tr>\n    <tr>\n      <th>441</th>\n      <td>Deyonta Davis</td>\n      <td>$85,458</td>\n    </tr>\n    <tr>\n      <th>447</th>\n      <td>Michael Carter-Williams</td>\n      <td>$85,458</td>\n    </tr>\n    <tr>\n      <th>448</th>\n      <td>Isaiah Canaan</td>\n      <td>$85,458</td>\n    </tr>\n    <tr>\n      <th>449</th>\n      <td>Isaiah Canaan</td>\n      <td>$85,458</td>\n    </tr>\n    <tr>\n      <th>450</th>\n      <td>Corey Brewer</td>\n      <td>$85,458</td>\n    </tr>\n    <tr>\n      <th>451</th>\n      <td>Corey Brewer</td>\n      <td>$85,458</td>\n    </tr>\n    <tr>\n      <th>456</th>\n      <td>Quincy Acy</td>\n      <td>$85,458</td>\n    </tr>\n    <tr>\n      <th>458</th>\n      <td>Bruno Caboclo</td>\n      <td>$85,458</td>\n    </tr>\n    <tr>\n      <th>473</th>\n      <td>BJ Johnson</td>\n      <td>$47,371</td>\n    </tr>\n    <tr>\n      <th>478</th>\n      <td>BJ Johnson</td>\n      <td>$47,371</td>\n    </tr>\n    <tr>\n      <th>481</th>\n      <td>Mitch Creek</td>\n      <td>$47,371</td>\n    </tr>\n    <tr>\n      <th>483</th>\n      <td>Justin Bibbs</td>\n      <td>$47,371</td>\n    </tr>\n    <tr>\n      <th>484</th>\n      <td>Mitch Creek</td>\n      <td>$47,371</td>\n    </tr>\n    <tr>\n      <th>487</th>\n      <td>Emanuel Terry</td>\n      <td>$47,371</td>\n    </tr>\n  </tbody>\n</table>\n</div>"
     },
     "metadata": {},
     "execution_count": 40
    }
   ],
   "source": [
    "clean_salary_df.loc[clean_salary_df.duplicated(), :]"
   ]
  },
  {
   "cell_type": "code",
   "execution_count": null,
   "metadata": {},
   "outputs": [],
   "source": []
  }
 ],
 "metadata": {
  "kernelspec": {
   "display_name": "Python 3",
   "language": "python",
   "name": "python3"
  },
  "language_info": {
   "codemirror_mode": {
    "name": "ipython",
    "version": 3
   },
   "file_extension": ".py",
   "mimetype": "text/x-python",
   "name": "python",
   "nbconvert_exporter": "python",
   "pygments_lexer": "ipython3",
   "version": "3.8.3-final"
  }
 },
 "nbformat": 4,
 "nbformat_minor": 4
}