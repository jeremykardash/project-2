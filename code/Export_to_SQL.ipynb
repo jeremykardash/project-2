{
 "cells": [
  {
   "cell_type": "code",
   "execution_count": 1,
   "metadata": {},
   "outputs": [],
   "source": [
    "#!pip install psycopg2"
   ]
  },
  {
   "cell_type": "code",
   "execution_count": 1,
   "metadata": {},
   "outputs": [],
   "source": [
    "import psycopg2\n",
    "import pandas as pd\n",
    "import datetime as dt\n",
    "import os\n",
    "\n",
    "import sqlalchemy as sqa\n",
    "from sqlalchemy.ext.automap import automap_base\n",
    "from sqlalchemy.orm import Session\n",
    "from sqlalchemy import create_engine, func,inspect\n",
    "\n",
    "from psycopg2.extensions import ISOLATION_LEVEL_AUTOCOMMIT\n",
    "import glob \n"
   ]
  },
  {
   "cell_type": "code",
   "execution_count": 2,
   "metadata": {},
   "outputs": [],
   "source": [
    "#in the next few kernels we will connect to PostGRES and create a new DB\n",
    "# Connect to PostgreSQL DBMS\n",
    "database = 'nba2018db'\n",
    "user = 'postgres'\n",
    "password ='postgres' #needs password\n",
    "\n",
    "con = psycopg2.connect(\"user=postgres password='postgres'\");\n",
    "con.set_isolation_level(ISOLATION_LEVEL_AUTOCOMMIT);"
   ]
  },
  {
   "cell_type": "code",
   "execution_count": 3,
   "metadata": {},
   "outputs": [],
   "source": [
    "# Obtain a DB Cursor\n",
    "cursor = con.cursor();\n",
    "name_Database = \"nba2018db\";"
   ]
  },
  {
   "cell_type": "code",
   "execution_count": 4,
   "metadata": {},
   "outputs": [],
   "source": [
    "# Create table statement\n",
    "sqlCreateDatabase = \"create database \"+name_Database+\";\""
   ]
  },
  {
   "cell_type": "code",
   "execution_count": 5,
   "metadata": {},
   "outputs": [],
   "source": [
    "# Create a table in PostgreSQL database and then close the connection\n",
    "cursor.execute(sqlCreateDatabase);\n",
    "# con.close()"
   ]
  },
  {
   "cell_type": "code",
   "execution_count": 6,
   "metadata": {},
   "outputs": [],
   "source": [
    "# connecting to the new database\n",
    "# a second cursor was created so that it would connect properly to the new db\n",
    "\n",
    "con = psycopg2.connect(database='nba2018db', user=user, password=password)\n",
    "cursor2 = con.cursor()"
   ]
  },
  {
   "cell_type": "code",
   "execution_count": 7,
   "metadata": {},
   "outputs": [],
   "source": [
    "filepath = os.path.join('sql','NBA2018.sql')\n"
   ]
  },
  {
   "cell_type": "code",
   "execution_count": 8,
   "metadata": {},
   "outputs": [],
   "source": [
    "#using the export of the ERD diagram from https://app.quickdatabasediagrams.com/#/\n",
    "#to create the tables in the nba2018db\n",
    "\n",
    "sql_file = open(filepath,'r', encoding='utf-8-sig')\n",
    "cursor2.execute(sql_file.read())"
   ]
  },
  {
   "cell_type": "code",
   "execution_count": 33,
   "metadata": {
    "scrolled": true
   },
   "outputs": [
    {
     "name": "stdout",
     "output_type": "stream",
     "text": [
      "['players', 'teams', 'players_team', 'salary', 'combine', 'games', 'stats']\n"
     ]
    }
   ],
   "source": [
    "#create an iterable list of our inputs from the directory\n",
    "\n",
    "directory_path = os.path.join('..','outputs','*.csv')\n",
    "file_list = []\n",
    "\n",
    "for fname in glob.glob(directory_path):\n",
    "    file_list.append(fname)\n",
    "\n",
    "file_list\n",
    "table_list = []\n",
    "\n",
    "for i in range(len(file_list)):\n",
    "    table_list.append(file_list[i].replace('_cleaned.csv','').replace('../outputs/', ''))\n",
    "\n",
    "file_list = sorted(file_list)\n",
    "table_list =sorted(table_list)\n",
    "\n",
    "for i in range(len(table_list)):\n",
    "    table_list[i] = table_list[i][2:]\n",
    "    \n",
    "\n",
    "print(table_list)  "
   ]
  },
  {
   "cell_type": "code",
   "execution_count": 31,
   "metadata": {},
   "outputs": [],
   "source": [
    "# import csv\n",
    "# with open(file_list[0], 'r') as f:\n",
    "#     reader = csv.reader(f)\n",
    "#     next(reader) # Skip the header row.\n",
    "#     for row in reader:\n",
    "#         cursor2.execute(\n",
    "#         f\"INSERT INTO {table_list[0]} VALUES ({row})\",\n",
    "#         row\n",
    "#     )"
   ]
  },
  {
   "cell_type": "code",
   "execution_count": 32,
   "metadata": {
    "scrolled": true
   },
   "outputs": [
    {
     "ename": "UndefinedTable",
     "evalue": "relation \"a_players\" does not exist\n",
     "output_type": "error",
     "traceback": [
      "\u001b[0;31m---------------------------------------------------------------------------\u001b[0m",
      "\u001b[0;31mUndefinedTable\u001b[0m                            Traceback (most recent call last)",
      "\u001b[0;32m<ipython-input-32-b914c65a0432>\u001b[0m in \u001b[0;36m<module>\u001b[0;34m\u001b[0m\n\u001b[1;32m      7\u001b[0m     \u001b[0;32mwith\u001b[0m \u001b[0mopen\u001b[0m\u001b[0;34m(\u001b[0m\u001b[0mfile_list\u001b[0m\u001b[0;34m[\u001b[0m\u001b[0mi\u001b[0m\u001b[0;34m]\u001b[0m\u001b[0;34m,\u001b[0m \u001b[0;34m'r'\u001b[0m\u001b[0;34m)\u001b[0m \u001b[0;32mas\u001b[0m \u001b[0mf\u001b[0m\u001b[0;34m:\u001b[0m\u001b[0;34m\u001b[0m\u001b[0;34m\u001b[0m\u001b[0m\n\u001b[1;32m      8\u001b[0m         \u001b[0mnext\u001b[0m\u001b[0;34m(\u001b[0m\u001b[0mf\u001b[0m\u001b[0;34m)\u001b[0m \u001b[0;31m# Skip the header row.\u001b[0m\u001b[0;34m\u001b[0m\u001b[0;34m\u001b[0m\u001b[0m\n\u001b[0;32m----> 9\u001b[0;31m         \u001b[0mcursor2\u001b[0m\u001b[0;34m.\u001b[0m\u001b[0mcopy_from\u001b[0m\u001b[0;34m(\u001b[0m\u001b[0mf\u001b[0m\u001b[0;34m,\u001b[0m \u001b[0mtable_list\u001b[0m\u001b[0;34m[\u001b[0m\u001b[0mi\u001b[0m\u001b[0;34m]\u001b[0m\u001b[0;34m,\u001b[0m \u001b[0msep\u001b[0m\u001b[0;34m=\u001b[0m\u001b[0;34m','\u001b[0m\u001b[0;34m,\u001b[0m \u001b[0mnull\u001b[0m\u001b[0;34m=\u001b[0m\u001b[0;34m'NULL'\u001b[0m\u001b[0;34m)\u001b[0m\u001b[0;34m\u001b[0m\u001b[0;34m\u001b[0m\u001b[0m\n\u001b[0m\u001b[1;32m     10\u001b[0m         \u001b[0mcon\u001b[0m\u001b[0;34m.\u001b[0m\u001b[0mcommit\u001b[0m\u001b[0;34m(\u001b[0m\u001b[0;34m)\u001b[0m\u001b[0;34m\u001b[0m\u001b[0;34m\u001b[0m\u001b[0m\n",
      "\u001b[0;31mUndefinedTable\u001b[0m: relation \"a_players\" does not exist\n"
     ]
    }
   ],
   "source": [
    "#ingest all of the CSV file into the database using an for-loop\n",
    "#a null='NULL' statement is required so that any empty field \n",
    "#is ingested properly\n",
    "\n",
    "for i in range(len(file_list)):\n",
    "#     filepath = os.path.join('outputs','teams_cleaned.csv')\n",
    "    with open(file_list[i], 'r') as f:\n",
    "        next(f) # Skip the header row.\n",
    "        cursor2.copy_from(f, table_list[i], sep=',', null='NULL')\n",
    "        con.commit()"
   ]
  },
  {
   "cell_type": "code",
   "execution_count": 13,
   "metadata": {},
   "outputs": [],
   "source": [
    "con.close()\n",
    "cursor2.close()\n",
    "cursor.close()"
   ]
  },
  {
   "cell_type": "code",
   "execution_count": null,
   "metadata": {},
   "outputs": [],
   "source": []
  }
 ],
 "metadata": {
  "kernelspec": {
   "display_name": "Python 3",
   "language": "python",
   "name": "python3"
  },
  "language_info": {
   "codemirror_mode": {
    "name": "ipython",
    "version": 3
   },
   "file_extension": ".py",
   "mimetype": "text/x-python",
   "name": "python",
   "nbconvert_exporter": "python",
   "pygments_lexer": "ipython3",
   "version": "3.8.3"
  }
 },
 "nbformat": 4,
 "nbformat_minor": 4
}
